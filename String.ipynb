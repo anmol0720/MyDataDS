{
  "cells": [
    {
      "metadata": {
        "trusted": true
      },
      "cell_type": "code",
      "source": "n='anmol'\nfor i in n:\n    print(i)\n",
      "execution_count": 1,
      "outputs": [
        {
          "output_type": "stream",
          "text": "a\nn\nm\no\nl\n",
          "name": "stdout"
        }
      ]
    },
    {
      "metadata": {
        "trusted": true
      },
      "cell_type": "code",
      "source": "n='anmol sharma'\nprint(n[:5])\nprint(n[:])\nprint(n[2:4])\n",
      "execution_count": 2,
      "outputs": [
        {
          "output_type": "stream",
          "text": "anmol\nanmol sharma\nmo\n",
          "name": "stdout"
        }
      ]
    },
    {
      "metadata": {
        "trusted": true
      },
      "cell_type": "code",
      "source": "a='abcd'\n'cd' in a",
      "execution_count": 6,
      "outputs": [
        {
          "output_type": "execute_result",
          "execution_count": 6,
          "data": {
            "text/plain": "True"
          },
          "metadata": {}
        }
      ]
    },
    {
      "metadata": {
        "trusted": true
      },
      "cell_type": "code",
      "source": "a='    antman   '\na.strip()",
      "execution_count": 13,
      "outputs": [
        {
          "output_type": "execute_result",
          "execution_count": 13,
          "data": {
            "text/plain": "'antman'"
          },
          "metadata": {}
        }
      ]
    },
    {
      "metadata": {
        "trusted": true
      },
      "cell_type": "code",
      "source": "text = \"X-DSPAM-Confidence:    0.8475\";\nx=text.find(' ')\nt=text[x+1:]\nprint(float(t))",
      "execution_count": 14,
      "outputs": [
        {
          "output_type": "stream",
          "text": "0.8475\n",
          "name": "stdout"
        }
      ]
    }
  ],
  "metadata": {
    "kernelspec": {
      "name": "python36",
      "display_name": "Python 3.6",
      "language": "python"
    },
    "language_info": {
      "mimetype": "text/x-python",
      "nbconvert_exporter": "python",
      "name": "python",
      "pygments_lexer": "ipython3",
      "version": "3.6.6",
      "file_extension": ".py",
      "codemirror_mode": {
        "version": 3,
        "name": "ipython"
      }
    }
  },
  "nbformat": 4,
  "nbformat_minor": 2
}
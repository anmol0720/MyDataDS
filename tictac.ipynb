{
  "cells": [
    {
      "metadata": {
        "trusted": true
      },
      "cell_type": "code",
      "source": "is_x=True\nt=None\ndef position(board,player):\n    pos=int(input(\"enter the position\"))\n    if pos>=1 and pos<=9:\n        exact_pos(pos,board,player)\n    else:\n        print(\"not a valid input\")\ndef exact_pos(pos,board,player):\n    pos=pos-1\n    update(pos//3,pos%3,board,player)\ndef update(i,j,board,player):\n    if board[i][j]=='_':\n        if player=='X':\n            board[i][j]='X'\n        else:\n            board[i][j]='O'\n        printboard(board)\n    else:\n        print(\"re-enter the position\")\n        position(board,player)\ndef printboard(board):\n    for i in board:\n        print(i)\ndef winner(board):\n    for i in range(3):\n        for j in range(3):\n            if (board[i][i]=='X' or 'O'):\n                print(\"winner is:\",board[i][i])\n            elif (board[j][j]=='X' or 'O'):\n                print(\"winner is:\",board[i][i])\nboard=[['_'for _ in range(3)]for _ in range(3)]\nfor i in board:\n    print(i)\nfor i in range(3):\n    for j in range(3):\n        if(board[i][j]!='_'):\n            t=1\n        else:\n            t=0\nwhile(t==1):\n    player = \"X\" if is_x else \"O\"\n    position(board,player)\n    is_x=not is_x\nwinner(board)",
      "execution_count": 36,
      "outputs": [
        {
          "output_type": "stream",
          "text": "['_', '_', '_']\n['_', '_', '_']\n['_', '_', '_']\nenter the position1\n['X', '_', '_']\n['_', '_', '_']\n['_', '_', '_']\nenter the position2\n['X', 'O', '_']\n['_', '_', '_']\n['_', '_', '_']\nenter the position5\n['X', 'O', '_']\n['_', 'X', '_']\n['_', '_', '_']\nenter the position6\n['X', 'O', '_']\n['_', 'X', 'O']\n['_', '_', '_']\nenter the position9\n['X', 'O', '_']\n['_', 'X', 'O']\n['_', '_', 'X']\nenter the position8\n['X', 'O', '_']\n['_', 'X', 'O']\n['_', 'O', 'X']\nenter the position4\n['X', 'O', '_']\n['X', 'X', 'O']\n['_', 'O', 'X']\nenter the position7\n['X', 'O', '_']\n['X', 'X', 'O']\n['O', 'O', 'X']\nenter the position3\n['X', 'O', 'X']\n['X', 'X', 'O']\n['O', 'O', 'X']\nenter the position\n",
          "name": "stdout"
        },
        {
          "output_type": "error",
          "ename": "ValueError",
          "evalue": "invalid literal for int() with base 10: ''",
          "traceback": [
            "\u001b[0;31m---------------------------------------------------------------------------\u001b[0m",
            "\u001b[0;31mValueError\u001b[0m                                Traceback (most recent call last)",
            "\u001b[0;32m<ipython-input-36-b4b50e917aa7>\u001b[0m in \u001b[0;36m<module>\u001b[0;34m\u001b[0m\n\u001b[1;32m     37\u001b[0m \u001b[0;32mwhile\u001b[0m\u001b[0;34m(\u001b[0m\u001b[0mt\u001b[0m\u001b[0;34m==\u001b[0m\u001b[0;36m1\u001b[0m\u001b[0;34m)\u001b[0m\u001b[0;34m:\u001b[0m\u001b[0;34m\u001b[0m\u001b[0m\n\u001b[1;32m     38\u001b[0m     \u001b[0mplayer\u001b[0m \u001b[0;34m=\u001b[0m \u001b[0;34m\"X\"\u001b[0m \u001b[0;32mif\u001b[0m \u001b[0mis_x\u001b[0m \u001b[0;32melse\u001b[0m \u001b[0;34m\"O\"\u001b[0m\u001b[0;34m\u001b[0m\u001b[0m\n\u001b[0;32m---> 39\u001b[0;31m     \u001b[0mposition\u001b[0m\u001b[0;34m(\u001b[0m\u001b[0mboard\u001b[0m\u001b[0;34m,\u001b[0m\u001b[0mplayer\u001b[0m\u001b[0;34m)\u001b[0m\u001b[0;34m\u001b[0m\u001b[0m\n\u001b[0m\u001b[1;32m     40\u001b[0m     \u001b[0mis_x\u001b[0m\u001b[0;34m=\u001b[0m\u001b[0;32mnot\u001b[0m \u001b[0mis_x\u001b[0m\u001b[0;34m\u001b[0m\u001b[0m\n\u001b[1;32m     41\u001b[0m \u001b[0mwinner\u001b[0m\u001b[0;34m(\u001b[0m\u001b[0mboard\u001b[0m\u001b[0;34m)\u001b[0m\u001b[0;34m\u001b[0m\u001b[0m\n",
            "\u001b[0;32m<ipython-input-36-b4b50e917aa7>\u001b[0m in \u001b[0;36mposition\u001b[0;34m(board, player)\u001b[0m\n\u001b[1;32m      2\u001b[0m \u001b[0mt\u001b[0m\u001b[0;34m=\u001b[0m\u001b[0;32mNone\u001b[0m\u001b[0;34m\u001b[0m\u001b[0m\n\u001b[1;32m      3\u001b[0m \u001b[0;32mdef\u001b[0m \u001b[0mposition\u001b[0m\u001b[0;34m(\u001b[0m\u001b[0mboard\u001b[0m\u001b[0;34m,\u001b[0m\u001b[0mplayer\u001b[0m\u001b[0;34m)\u001b[0m\u001b[0;34m:\u001b[0m\u001b[0;34m\u001b[0m\u001b[0m\n\u001b[0;32m----> 4\u001b[0;31m     \u001b[0mpos\u001b[0m\u001b[0;34m=\u001b[0m\u001b[0mint\u001b[0m\u001b[0;34m(\u001b[0m\u001b[0minput\u001b[0m\u001b[0;34m(\u001b[0m\u001b[0;34m\"enter the position\"\u001b[0m\u001b[0;34m)\u001b[0m\u001b[0;34m)\u001b[0m\u001b[0;34m\u001b[0m\u001b[0m\n\u001b[0m\u001b[1;32m      5\u001b[0m     \u001b[0;32mif\u001b[0m \u001b[0mpos\u001b[0m\u001b[0;34m>=\u001b[0m\u001b[0;36m1\u001b[0m \u001b[0;32mand\u001b[0m \u001b[0mpos\u001b[0m\u001b[0;34m<=\u001b[0m\u001b[0;36m9\u001b[0m\u001b[0;34m:\u001b[0m\u001b[0;34m\u001b[0m\u001b[0m\n\u001b[1;32m      6\u001b[0m         \u001b[0mexact_pos\u001b[0m\u001b[0;34m(\u001b[0m\u001b[0mpos\u001b[0m\u001b[0;34m,\u001b[0m\u001b[0mboard\u001b[0m\u001b[0;34m,\u001b[0m\u001b[0mplayer\u001b[0m\u001b[0;34m)\u001b[0m\u001b[0;34m\u001b[0m\u001b[0m\n",
            "\u001b[0;31mValueError\u001b[0m: invalid literal for int() with base 10: ''"
          ]
        }
      ]
    },
    {
      "metadata": {
        "trusted": true
      },
      "cell_type": "code",
      "source": "",
      "execution_count": null,
      "outputs": []
    }
  ],
  "metadata": {
    "kernelspec": {
      "name": "python36",
      "display_name": "Python 3.6",
      "language": "python"
    }
  },
  "nbformat": 4,
  "nbformat_minor": 2
}
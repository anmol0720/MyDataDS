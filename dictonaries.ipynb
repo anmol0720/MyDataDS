{
  "cells": [
    {
      "metadata": {
        "trusted": true
      },
      "cell_type": "code",
      "source": "string=input(\"enter  a sentence\")\ndir=dict()\nword=string.split()\nfor i in word:\n    dir[i]=dir.get(i,0)+1\nprint(dir)",
      "execution_count": 2,
      "outputs": [
        {
          "output_type": "stream",
          "name": "stdout",
          "text": "enter  a sentencehey hi hey hi\n{'hey': 2, 'hi': 2}\n"
        }
      ]
    },
    {
      "metadata": {
        "trusted": true
      },
      "cell_type": "code",
      "source": "dir=dict()\nfh=input(\"enter file name\")\nf=open(fh)\nfor k in f:\n    word=k.split()\n    for i in word:\n        dir[i]=dir.get(i,0)+1\nprint(dir)\n\nbigword=None\nbigcount=None\nfor word,count in dir.item():\n    if bigcount=None or count>bigcount:\n        bigcount=count\n        bigword=word",
      "execution_count": 1,
      "outputs": [
        {
          "output_type": "error",
          "ename": "SyntaxError",
          "evalue": "invalid syntax (<ipython-input-1-159da236ae4a>, line 13)",
          "traceback": [
            "\u001b[0;36m  File \u001b[0;32m\"<ipython-input-1-159da236ae4a>\"\u001b[0;36m, line \u001b[0;32m13\u001b[0m\n\u001b[0;31m    if bigcount=None or count>bigcount:\u001b[0m\n\u001b[0m               ^\u001b[0m\n\u001b[0;31mSyntaxError\u001b[0m\u001b[0;31m:\u001b[0m invalid syntax\n"
          ]
        }
      ]
    },
    {
      "metadata": {
        "trusted": true
      },
      "cell_type": "code",
      "source": "fname = input(\"Enter file name: \")\nfh = open(fname)\nword=[]\nword1=[]\ncount=0\nfor line in fh:\n    if not line.startswith('From'):continue\n    else:\n        count=count+1\n        word=line.split()\n    for i in word:\n        if i  not in word1:\n            \n            word1.append(i)\n            \n        else:\n            continue\n    print(word1[1])\nprint(\"There were\", count, \"lines in the file with From as the first word\")",
      "execution_count": null,
      "outputs": []
    },
    {
      "metadata": {
        "trusted": true
      },
      "cell_type": "code",
      "source": "",
      "execution_count": null,
      "outputs": []
    },
    {
      "metadata": {
        "trusted": true
      },
      "cell_type": "code",
      "source": "dic=dict()\ndic1=dict()\nname = input(\"Enter file:\")\nhandle = open(name)\nfor line in handle:\n    if not line.startswith('From'):continue\n    else:\n        dic=line[5:]\nfor i in dic:\n    dic1[i]=dic1.get(i,0)+1\nprint(dic1)",
      "execution_count": null,
      "outputs": []
    }
  ],
  "metadata": {
    "kernelspec": {
      "name": "python36",
      "display_name": "Python 3.6",
      "language": "python"
    },
    "language_info": {
      "mimetype": "text/x-python",
      "nbconvert_exporter": "python",
      "name": "python",
      "pygments_lexer": "ipython3",
      "version": "3.6.6",
      "file_extension": ".py",
      "codemirror_mode": {
        "version": 3,
        "name": "ipython"
      }
    }
  },
  "nbformat": 4,
  "nbformat_minor": 2
}
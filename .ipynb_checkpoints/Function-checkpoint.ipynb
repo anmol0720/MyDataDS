{
  "cells": [
    {
      "metadata": {
        "trusted": true
      },
      "cell_type": "code",
      "source": "b=max('Anmol Sharma')\nprint(b)",
      "execution_count": 3,
      "outputs": [
        {
          "output_type": "stream",
          "text": "r\n",
          "name": "stdout"
        }
      ]
    },
    {
      "metadata": {
        "trusted": true
      },
      "cell_type": "code",
      "source": "def fun(a):\n    if(a=='b'):\n        print('okay')\n    elif(a=='c'):\n        print('not okay')\n    else:\n        print('wrong input')\nfun(input())",
      "execution_count": 5,
      "outputs": [
        {
          "output_type": "stream",
          "name": "stdout",
          "text": "a\nwrong input\n"
        }
      ]
    },
    {
      "metadata": {
        "trusted": true
      },
      "cell_type": "code",
      "source": "def computepay(hrs,rate):\n    if float(hrs)<=40:\n        pay=float(hrs)*float(rate)\n    else:\n        pay=(float(hrs)-40)*0.5*float(rate)+40*float(rate)\n    return pay\ncomputepay(input('enter hours'),input('enter rate'))",
      "execution_count": 8,
      "outputs": [
        {
          "output_type": "stream",
          "name": "stdout",
          "text": "enter hours45\nenter rate10.50\n"
        },
        {
          "output_type": "execute_result",
          "execution_count": 8,
          "data": {
            "text/plain": "446.25"
          },
          "metadata": {}
        }
      ]
    }
  ],
  "metadata": {
    "kernelspec": {
      "name": "python36",
      "display_name": "Python 3.6",
      "language": "python"
    },
    "language_info": {
      "mimetype": "text/x-python",
      "nbconvert_exporter": "python",
      "name": "python",
      "pygments_lexer": "ipython3",
      "version": "3.6.6",
      "file_extension": ".py",
      "codemirror_mode": {
        "version": 3,
        "name": "ipython"
      }
    }
  },
  "nbformat": 4,
  "nbformat_minor": 2
}
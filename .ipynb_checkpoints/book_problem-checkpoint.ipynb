{
  "cells": [
    {
      "metadata": {
        "trusted": true
      },
      "cell_type": "code",
      "source": "hrs = input(\"Enter Hours:\")\nrate= input(\"Enter Rate:\")\npay=float(hrs)*float(rate)\nprint(pay)",
      "execution_count": 1,
      "outputs": [
        {
          "output_type": "stream",
          "name": "stdout",
          "text": "Enter Hours:35\nEnter Rate:2.75\n96.25\n"
        }
      ]
    },
    {
      "metadata": {
        "trusted": true
      },
      "cell_type": "code",
      "source": "hrs=input(\"enter hours\")\nrate=input(\"enter rate\")\nif(float(hrs)>40):\n    pay=(float(hrs)-40)*1.5*float(rate)+40*float(rate)\nprint(pay)\nelse:\n    pay=float(hrs)*float(rate)",
      "execution_count": 8,
      "outputs": [
        {
          "output_type": "stream",
          "name": "stdout",
          "text": "enter hours45\nenter rate10.50\n498.75\n"
        }
      ]
    },
    {
      "metadata": {
        "trusted": true
      },
      "cell_type": "code",
      "source": "score=input(\"enter your score\")\nscore=float(score)\nif(score>0.0 and score<1.0):\n    if(score>=0.90):\n        print('a')\n    elif(score>=0.80):\n        print('b')\n    elif(score>=0.70):\n        print('c')\n    elif(score>=0.60):\n        print('d')\n    elif(score>=0.50):\n        print('e')\n    else:\n        print('f')\nelse:\n    print(\"out of scope input\")\n    exit()",
      "execution_count": 2,
      "outputs": [
        {
          "output_type": "stream",
          "name": "stdout",
          "text": "enter your score0.85\nb\n"
        }
      ]
    },
    {
      "metadata": {
        "trusted": true
      },
      "cell_type": "code",
      "source": "\"\"\".2 Write a program that prompts for a file name, then opens that file and reads through the file, looking for lines of the form:\nX-DSPAM-Confidence:    0.8475\nCount these lines and extract the floating point values from each of the lines and compute the average of those values and produce an output as shown below. Do not use the sum() function or a variable named sum in your solution.\nYou can download the sample data at http://www.py4e.com/code3/mbox-short.txt when you are testing below enter mbox-short.txt as the file name.\"\"\"\ncount=0\ntotal=0\ntotal=float(total)\navg=0\navg=float(avg)\nfname = input(\"Enter file name: \")\nfh = open(fname)\nfor line in fh:\n    if not line.startswith(\"X-DSPAM-Confidence:\") :\n        continue\n    else:\n    \tline=line.strip()\n    \tcount=count+1\n    \tl=len('X-DSPAM-Confidence:')\n    \tt=line[l+1:]\n    \ttotal=total+float(t)\navg=total/count\nprint(\"Average spam confidence: \",avg)",
      "execution_count": null,
      "outputs": []
    }
  ],
  "metadata": {
    "kernelspec": {
      "name": "python36",
      "display_name": "Python 3.6",
      "language": "python"
    },
    "language_info": {
      "mimetype": "text/x-python",
      "nbconvert_exporter": "python",
      "name": "python",
      "pygments_lexer": "ipython3",
      "version": "3.6.6",
      "file_extension": ".py",
      "codemirror_mode": {
        "version": 3,
        "name": "ipython"
      }
    }
  },
  "nbformat": 4,
  "nbformat_minor": 2
}
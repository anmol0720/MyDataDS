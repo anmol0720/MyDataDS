{
  "cells": [
    {
      "metadata": {
        "trusted": true
      },
      "cell_type": "code",
      "source": "!pwd",
      "execution_count": 1,
      "outputs": [
        {
          "output_type": "stream",
          "text": "/home/nbuser/library\r\n",
          "name": "stdout"
        }
      ]
    },
    {
      "metadata": {
        "trusted": true
      },
      "cell_type": "code",
      "source": "import numpy as np\nimport pandas as pd\ndf=pd.read_csv('/home/nbuser/library/telecom_churn.csv')\ndf.head()",
      "execution_count": 3,
      "outputs": [
        {
          "output_type": "execute_result",
          "execution_count": 3,
          "data": {
            "text/html": "<div>\n<style scoped>\n    .dataframe tbody tr th:only-of-type {\n        vertical-align: middle;\n    }\n\n    .dataframe tbody tr th {\n        vertical-align: top;\n    }\n\n    .dataframe thead th {\n        text-align: right;\n    }\n</style>\n<table border=\"1\" class=\"dataframe\">\n  <thead>\n    <tr style=\"text-align: right;\">\n      <th></th>\n      <th>State</th>\n      <th>Account length</th>\n      <th>Area code</th>\n      <th>International plan</th>\n      <th>Voice mail plan</th>\n      <th>Number vmail messages</th>\n      <th>Total day minutes</th>\n      <th>Total day calls</th>\n      <th>Total day charge</th>\n      <th>Total eve minutes</th>\n      <th>Total eve calls</th>\n      <th>Total eve charge</th>\n      <th>Total night minutes</th>\n      <th>Total night calls</th>\n      <th>Total night charge</th>\n      <th>Total intl minutes</th>\n      <th>Total intl calls</th>\n      <th>Total intl charge</th>\n      <th>Customer service calls</th>\n      <th>Churn</th>\n    </tr>\n  </thead>\n  <tbody>\n    <tr>\n      <th>0</th>\n      <td>KS</td>\n      <td>128</td>\n      <td>415</td>\n      <td>No</td>\n      <td>Yes</td>\n      <td>25</td>\n      <td>265.1</td>\n      <td>110</td>\n      <td>45.07</td>\n      <td>197.4</td>\n      <td>99</td>\n      <td>16.78</td>\n      <td>244.7</td>\n      <td>91</td>\n      <td>11.01</td>\n      <td>10.0</td>\n      <td>3</td>\n      <td>2.70</td>\n      <td>1</td>\n      <td>False</td>\n    </tr>\n    <tr>\n      <th>1</th>\n      <td>OH</td>\n      <td>107</td>\n      <td>415</td>\n      <td>No</td>\n      <td>Yes</td>\n      <td>26</td>\n      <td>161.6</td>\n      <td>123</td>\n      <td>27.47</td>\n      <td>195.5</td>\n      <td>103</td>\n      <td>16.62</td>\n      <td>254.4</td>\n      <td>103</td>\n      <td>11.45</td>\n      <td>13.7</td>\n      <td>3</td>\n      <td>3.70</td>\n      <td>1</td>\n      <td>False</td>\n    </tr>\n    <tr>\n      <th>2</th>\n      <td>NJ</td>\n      <td>137</td>\n      <td>415</td>\n      <td>No</td>\n      <td>No</td>\n      <td>0</td>\n      <td>243.4</td>\n      <td>114</td>\n      <td>41.38</td>\n      <td>121.2</td>\n      <td>110</td>\n      <td>10.30</td>\n      <td>162.6</td>\n      <td>104</td>\n      <td>7.32</td>\n      <td>12.2</td>\n      <td>5</td>\n      <td>3.29</td>\n      <td>0</td>\n      <td>False</td>\n    </tr>\n    <tr>\n      <th>3</th>\n      <td>OH</td>\n      <td>84</td>\n      <td>408</td>\n      <td>Yes</td>\n      <td>No</td>\n      <td>0</td>\n      <td>299.4</td>\n      <td>71</td>\n      <td>50.90</td>\n      <td>61.9</td>\n      <td>88</td>\n      <td>5.26</td>\n      <td>196.9</td>\n      <td>89</td>\n      <td>8.86</td>\n      <td>6.6</td>\n      <td>7</td>\n      <td>1.78</td>\n      <td>2</td>\n      <td>False</td>\n    </tr>\n    <tr>\n      <th>4</th>\n      <td>OK</td>\n      <td>75</td>\n      <td>415</td>\n      <td>Yes</td>\n      <td>No</td>\n      <td>0</td>\n      <td>166.7</td>\n      <td>113</td>\n      <td>28.34</td>\n      <td>148.3</td>\n      <td>122</td>\n      <td>12.61</td>\n      <td>186.9</td>\n      <td>121</td>\n      <td>8.41</td>\n      <td>10.1</td>\n      <td>3</td>\n      <td>2.73</td>\n      <td>3</td>\n      <td>False</td>\n    </tr>\n  </tbody>\n</table>\n</div>",
            "text/plain": "  State  Account length  Area code International plan Voice mail plan  \\\n0    KS             128        415                 No             Yes   \n1    OH             107        415                 No             Yes   \n2    NJ             137        415                 No              No   \n3    OH              84        408                Yes              No   \n4    OK              75        415                Yes              No   \n\n   Number vmail messages  Total day minutes  Total day calls  \\\n0                     25              265.1              110   \n1                     26              161.6              123   \n2                      0              243.4              114   \n3                      0              299.4               71   \n4                      0              166.7              113   \n\n   Total day charge  Total eve minutes  Total eve calls  Total eve charge  \\\n0             45.07              197.4               99             16.78   \n1             27.47              195.5              103             16.62   \n2             41.38              121.2              110             10.30   \n3             50.90               61.9               88              5.26   \n4             28.34              148.3              122             12.61   \n\n   Total night minutes  Total night calls  Total night charge  \\\n0                244.7                 91               11.01   \n1                254.4                103               11.45   \n2                162.6                104                7.32   \n3                196.9                 89                8.86   \n4                186.9                121                8.41   \n\n   Total intl minutes  Total intl calls  Total intl charge  \\\n0                10.0                 3               2.70   \n1                13.7                 3               3.70   \n2                12.2                 5               3.29   \n3                 6.6                 7               1.78   \n4                10.1                 3               2.73   \n\n   Customer service calls  Churn  \n0                       1  False  \n1                       1  False  \n2                       0  False  \n3                       2  False  \n4                       3  False  "
          },
          "metadata": {}
        }
      ]
    },
    {
      "metadata": {
        "trusted": true
      },
      "cell_type": "code",
      "source": "print(df.shape)",
      "execution_count": 5,
      "outputs": [
        {
          "output_type": "stream",
          "text": "(3333, 20)\n",
          "name": "stdout"
        }
      ]
    },
    {
      "metadata": {
        "trusted": true
      },
      "cell_type": "code",
      "source": "pd.set_option(\"display.max_row\",100)\npd.set_option(\"display.max_column\",100)\ndf.head()",
      "execution_count": 8,
      "outputs": [
        {
          "output_type": "execute_result",
          "execution_count": 8,
          "data": {
            "text/html": "<div>\n<style scoped>\n    .dataframe tbody tr th:only-of-type {\n        vertical-align: middle;\n    }\n\n    .dataframe tbody tr th {\n        vertical-align: top;\n    }\n\n    .dataframe thead th {\n        text-align: right;\n    }\n</style>\n<table border=\"1\" class=\"dataframe\">\n  <thead>\n    <tr style=\"text-align: right;\">\n      <th></th>\n      <th>State</th>\n      <th>Account length</th>\n      <th>Area code</th>\n      <th>International plan</th>\n      <th>Voice mail plan</th>\n      <th>Number vmail messages</th>\n      <th>Total day minutes</th>\n      <th>Total day calls</th>\n      <th>Total day charge</th>\n      <th>Total eve minutes</th>\n      <th>Total eve calls</th>\n      <th>Total eve charge</th>\n      <th>Total night minutes</th>\n      <th>Total night calls</th>\n      <th>Total night charge</th>\n      <th>Total intl minutes</th>\n      <th>Total intl calls</th>\n      <th>Total intl charge</th>\n      <th>Customer service calls</th>\n      <th>Churn</th>\n    </tr>\n  </thead>\n  <tbody>\n    <tr>\n      <th>0</th>\n      <td>KS</td>\n      <td>128</td>\n      <td>415</td>\n      <td>No</td>\n      <td>Yes</td>\n      <td>25</td>\n      <td>265.1</td>\n      <td>110</td>\n      <td>45.07</td>\n      <td>197.4</td>\n      <td>99</td>\n      <td>16.78</td>\n      <td>244.7</td>\n      <td>91</td>\n      <td>11.01</td>\n      <td>10.0</td>\n      <td>3</td>\n      <td>2.70</td>\n      <td>1</td>\n      <td>False</td>\n    </tr>\n    <tr>\n      <th>1</th>\n      <td>OH</td>\n      <td>107</td>\n      <td>415</td>\n      <td>No</td>\n      <td>Yes</td>\n      <td>26</td>\n      <td>161.6</td>\n      <td>123</td>\n      <td>27.47</td>\n      <td>195.5</td>\n      <td>103</td>\n      <td>16.62</td>\n      <td>254.4</td>\n      <td>103</td>\n      <td>11.45</td>\n      <td>13.7</td>\n      <td>3</td>\n      <td>3.70</td>\n      <td>1</td>\n      <td>False</td>\n    </tr>\n    <tr>\n      <th>2</th>\n      <td>NJ</td>\n      <td>137</td>\n      <td>415</td>\n      <td>No</td>\n      <td>No</td>\n      <td>0</td>\n      <td>243.4</td>\n      <td>114</td>\n      <td>41.38</td>\n      <td>121.2</td>\n      <td>110</td>\n      <td>10.30</td>\n      <td>162.6</td>\n      <td>104</td>\n      <td>7.32</td>\n      <td>12.2</td>\n      <td>5</td>\n      <td>3.29</td>\n      <td>0</td>\n      <td>False</td>\n    </tr>\n    <tr>\n      <th>3</th>\n      <td>OH</td>\n      <td>84</td>\n      <td>408</td>\n      <td>Yes</td>\n      <td>No</td>\n      <td>0</td>\n      <td>299.4</td>\n      <td>71</td>\n      <td>50.90</td>\n      <td>61.9</td>\n      <td>88</td>\n      <td>5.26</td>\n      <td>196.9</td>\n      <td>89</td>\n      <td>8.86</td>\n      <td>6.6</td>\n      <td>7</td>\n      <td>1.78</td>\n      <td>2</td>\n      <td>False</td>\n    </tr>\n    <tr>\n      <th>4</th>\n      <td>OK</td>\n      <td>75</td>\n      <td>415</td>\n      <td>Yes</td>\n      <td>No</td>\n      <td>0</td>\n      <td>166.7</td>\n      <td>113</td>\n      <td>28.34</td>\n      <td>148.3</td>\n      <td>122</td>\n      <td>12.61</td>\n      <td>186.9</td>\n      <td>121</td>\n      <td>8.41</td>\n      <td>10.1</td>\n      <td>3</td>\n      <td>2.73</td>\n      <td>3</td>\n      <td>False</td>\n    </tr>\n  </tbody>\n</table>\n</div>",
            "text/plain": "  State  Account length  Area code International plan Voice mail plan  \\\n0    KS             128        415                 No             Yes   \n1    OH             107        415                 No             Yes   \n2    NJ             137        415                 No              No   \n3    OH              84        408                Yes              No   \n4    OK              75        415                Yes              No   \n\n   Number vmail messages  Total day minutes  Total day calls  \\\n0                     25              265.1              110   \n1                     26              161.6              123   \n2                      0              243.4              114   \n3                      0              299.4               71   \n4                      0              166.7              113   \n\n   Total day charge  Total eve minutes  Total eve calls  Total eve charge  \\\n0             45.07              197.4               99             16.78   \n1             27.47              195.5              103             16.62   \n2             41.38              121.2              110             10.30   \n3             50.90               61.9               88              5.26   \n4             28.34              148.3              122             12.61   \n\n   Total night minutes  Total night calls  Total night charge  \\\n0                244.7                 91               11.01   \n1                254.4                103               11.45   \n2                162.6                104                7.32   \n3                196.9                 89                8.86   \n4                186.9                121                8.41   \n\n   Total intl minutes  Total intl calls  Total intl charge  \\\n0                10.0                 3               2.70   \n1                13.7                 3               3.70   \n2                12.2                 5               3.29   \n3                 6.6                 7               1.78   \n4                10.1                 3               2.73   \n\n   Customer service calls  Churn  \n0                       1  False  \n1                       1  False  \n2                       0  False  \n3                       2  False  \n4                       3  False  "
          },
          "metadata": {}
        }
      ]
    },
    {
      "metadata": {
        "trusted": true
      },
      "cell_type": "code",
      "source": "df.columns.tolist()\ndtype={'State':int}",
      "execution_count": 6,
      "outputs": []
    },
    {
      "metadata": {
        "trusted": true
      },
      "cell_type": "code",
      "source": "print(df.info())",
      "execution_count": 7,
      "outputs": [
        {
          "output_type": "stream",
          "text": "<class 'pandas.core.frame.DataFrame'>\nRangeIndex: 3333 entries, 0 to 3332\nData columns (total 20 columns):\nState                     3333 non-null object\nAccount length            3333 non-null int64\nArea code                 3333 non-null int64\nInternational plan        3333 non-null object\nVoice mail plan           3333 non-null object\nNumber vmail messages     3333 non-null int64\nTotal day minutes         3333 non-null float64\nTotal day calls           3333 non-null int64\nTotal day charge          3333 non-null float64\nTotal eve minutes         3333 non-null float64\nTotal eve calls           3333 non-null int64\nTotal eve charge          3333 non-null float64\nTotal night minutes       3333 non-null float64\nTotal night calls         3333 non-null int64\nTotal night charge        3333 non-null float64\nTotal intl minutes        3333 non-null float64\nTotal intl calls          3333 non-null int64\nTotal intl charge         3333 non-null float64\nCustomer service calls    3333 non-null int64\nChurn                     3333 non-null bool\ndtypes: bool(1), float64(8), int64(8), object(3)\nmemory usage: 498.1+ KB\nNone\n",
          "name": "stdout"
        }
      ]
    },
    {
      "metadata": {
        "trusted": true
      },
      "cell_type": "code",
      "source": "df.select_dtypes(include=['int64'])",
      "execution_count": 14,
      "outputs": [
        {
          "output_type": "execute_result",
          "execution_count": 14,
          "data": {
            "text/html": "<div>\n<style scoped>\n    .dataframe tbody tr th:only-of-type {\n        vertical-align: middle;\n    }\n\n    .dataframe tbody tr th {\n        vertical-align: top;\n    }\n\n    .dataframe thead th {\n        text-align: right;\n    }\n</style>\n<table border=\"1\" class=\"dataframe\">\n  <thead>\n    <tr style=\"text-align: right;\">\n      <th></th>\n      <th>Account length</th>\n      <th>Area code</th>\n      <th>Number vmail messages</th>\n      <th>Total day calls</th>\n      <th>Total eve calls</th>\n      <th>Total night calls</th>\n      <th>Total intl calls</th>\n      <th>Customer service calls</th>\n    </tr>\n  </thead>\n  <tbody>\n    <tr>\n      <th>0</th>\n      <td>128</td>\n      <td>415</td>\n      <td>25</td>\n      <td>110</td>\n      <td>99</td>\n      <td>91</td>\n      <td>3</td>\n      <td>1</td>\n    </tr>\n    <tr>\n      <th>1</th>\n      <td>107</td>\n      <td>415</td>\n      <td>26</td>\n      <td>123</td>\n      <td>103</td>\n      <td>103</td>\n      <td>3</td>\n      <td>1</td>\n    </tr>\n    <tr>\n      <th>2</th>\n      <td>137</td>\n      <td>415</td>\n      <td>0</td>\n      <td>114</td>\n      <td>110</td>\n      <td>104</td>\n      <td>5</td>\n      <td>0</td>\n    </tr>\n    <tr>\n      <th>3</th>\n      <td>84</td>\n      <td>408</td>\n      <td>0</td>\n      <td>71</td>\n      <td>88</td>\n      <td>89</td>\n      <td>7</td>\n      <td>2</td>\n    </tr>\n    <tr>\n      <th>4</th>\n      <td>75</td>\n      <td>415</td>\n      <td>0</td>\n      <td>113</td>\n      <td>122</td>\n      <td>121</td>\n      <td>3</td>\n      <td>3</td>\n    </tr>\n    <tr>\n      <th>5</th>\n      <td>118</td>\n      <td>510</td>\n      <td>0</td>\n      <td>98</td>\n      <td>101</td>\n      <td>118</td>\n      <td>6</td>\n      <td>0</td>\n    </tr>\n    <tr>\n      <th>6</th>\n      <td>121</td>\n      <td>510</td>\n      <td>24</td>\n      <td>88</td>\n      <td>108</td>\n      <td>118</td>\n      <td>7</td>\n      <td>3</td>\n    </tr>\n    <tr>\n      <th>7</th>\n      <td>147</td>\n      <td>415</td>\n      <td>0</td>\n      <td>79</td>\n      <td>94</td>\n      <td>96</td>\n      <td>6</td>\n      <td>0</td>\n    </tr>\n    <tr>\n      <th>8</th>\n      <td>117</td>\n      <td>408</td>\n      <td>0</td>\n      <td>97</td>\n      <td>80</td>\n      <td>90</td>\n      <td>4</td>\n      <td>1</td>\n    </tr>\n    <tr>\n      <th>9</th>\n      <td>141</td>\n      <td>415</td>\n      <td>37</td>\n      <td>84</td>\n      <td>111</td>\n      <td>97</td>\n      <td>5</td>\n      <td>0</td>\n    </tr>\n    <tr>\n      <th>10</th>\n      <td>65</td>\n      <td>415</td>\n      <td>0</td>\n      <td>137</td>\n      <td>83</td>\n      <td>111</td>\n      <td>6</td>\n      <td>4</td>\n    </tr>\n    <tr>\n      <th>11</th>\n      <td>74</td>\n      <td>415</td>\n      <td>0</td>\n      <td>127</td>\n      <td>148</td>\n      <td>94</td>\n      <td>5</td>\n      <td>0</td>\n    </tr>\n    <tr>\n      <th>12</th>\n      <td>168</td>\n      <td>408</td>\n      <td>0</td>\n      <td>96</td>\n      <td>71</td>\n      <td>128</td>\n      <td>2</td>\n      <td>1</td>\n    </tr>\n    <tr>\n      <th>13</th>\n      <td>95</td>\n      <td>510</td>\n      <td>0</td>\n      <td>88</td>\n      <td>75</td>\n      <td>115</td>\n      <td>5</td>\n      <td>3</td>\n    </tr>\n    <tr>\n      <th>14</th>\n      <td>62</td>\n      <td>415</td>\n      <td>0</td>\n      <td>70</td>\n      <td>76</td>\n      <td>99</td>\n      <td>6</td>\n      <td>4</td>\n    </tr>\n    <tr>\n      <th>15</th>\n      <td>161</td>\n      <td>415</td>\n      <td>0</td>\n      <td>67</td>\n      <td>97</td>\n      <td>128</td>\n      <td>9</td>\n      <td>4</td>\n    </tr>\n    <tr>\n      <th>16</th>\n      <td>85</td>\n      <td>408</td>\n      <td>27</td>\n      <td>139</td>\n      <td>90</td>\n      <td>75</td>\n      <td>4</td>\n      <td>1</td>\n    </tr>\n    <tr>\n      <th>17</th>\n      <td>93</td>\n      <td>510</td>\n      <td>0</td>\n      <td>114</td>\n      <td>111</td>\n      <td>121</td>\n      <td>3</td>\n      <td>3</td>\n    </tr>\n    <tr>\n      <th>18</th>\n      <td>76</td>\n      <td>510</td>\n      <td>33</td>\n      <td>66</td>\n      <td>65</td>\n      <td>108</td>\n      <td>5</td>\n      <td>1</td>\n    </tr>\n    <tr>\n      <th>19</th>\n      <td>73</td>\n      <td>415</td>\n      <td>0</td>\n      <td>90</td>\n      <td>88</td>\n      <td>74</td>\n      <td>2</td>\n      <td>1</td>\n    </tr>\n    <tr>\n      <th>20</th>\n      <td>147</td>\n      <td>415</td>\n      <td>0</td>\n      <td>117</td>\n      <td>93</td>\n      <td>133</td>\n      <td>4</td>\n      <td>0</td>\n    </tr>\n    <tr>\n      <th>21</th>\n      <td>77</td>\n      <td>408</td>\n      <td>0</td>\n      <td>89</td>\n      <td>121</td>\n      <td>64</td>\n      <td>6</td>\n      <td>5</td>\n    </tr>\n    <tr>\n      <th>22</th>\n      <td>130</td>\n      <td>415</td>\n      <td>0</td>\n      <td>112</td>\n      <td>99</td>\n      <td>78</td>\n      <td>19</td>\n      <td>0</td>\n    </tr>\n    <tr>\n      <th>23</th>\n      <td>111</td>\n      <td>415</td>\n      <td>0</td>\n      <td>103</td>\n      <td>102</td>\n      <td>105</td>\n      <td>6</td>\n      <td>2</td>\n    </tr>\n    <tr>\n      <th>24</th>\n      <td>132</td>\n      <td>510</td>\n      <td>0</td>\n      <td>86</td>\n      <td>72</td>\n      <td>115</td>\n      <td>2</td>\n      <td>0</td>\n    </tr>\n    <tr>\n      <th>25</th>\n      <td>174</td>\n      <td>415</td>\n      <td>0</td>\n      <td>76</td>\n      <td>112</td>\n      <td>115</td>\n      <td>5</td>\n      <td>3</td>\n    </tr>\n    <tr>\n      <th>26</th>\n      <td>57</td>\n      <td>408</td>\n      <td>39</td>\n      <td>115</td>\n      <td>112</td>\n      <td>115</td>\n      <td>3</td>\n      <td>0</td>\n    </tr>\n    <tr>\n      <th>27</th>\n      <td>54</td>\n      <td>408</td>\n      <td>0</td>\n      <td>73</td>\n      <td>100</td>\n      <td>68</td>\n      <td>4</td>\n      <td>3</td>\n    </tr>\n    <tr>\n      <th>28</th>\n      <td>20</td>\n      <td>415</td>\n      <td>0</td>\n      <td>109</td>\n      <td>84</td>\n      <td>102</td>\n      <td>6</td>\n      <td>0</td>\n    </tr>\n    <tr>\n      <th>29</th>\n      <td>49</td>\n      <td>510</td>\n      <td>0</td>\n      <td>117</td>\n      <td>109</td>\n      <td>90</td>\n      <td>1</td>\n      <td>1</td>\n    </tr>\n    <tr>\n      <th>...</th>\n      <td>...</td>\n      <td>...</td>\n      <td>...</td>\n      <td>...</td>\n      <td>...</td>\n      <td>...</td>\n      <td>...</td>\n      <td>...</td>\n    </tr>\n    <tr>\n      <th>3303</th>\n      <td>114</td>\n      <td>415</td>\n      <td>26</td>\n      <td>88</td>\n      <td>125</td>\n      <td>94</td>\n      <td>7</td>\n      <td>2</td>\n    </tr>\n    <tr>\n      <th>3304</th>\n      <td>71</td>\n      <td>510</td>\n      <td>0</td>\n      <td>114</td>\n      <td>140</td>\n      <td>80</td>\n      <td>5</td>\n      <td>4</td>\n    </tr>\n    <tr>\n      <th>3305</th>\n      <td>58</td>\n      <td>415</td>\n      <td>22</td>\n      <td>127</td>\n      <td>85</td>\n      <td>86</td>\n      <td>7</td>\n      <td>2</td>\n    </tr>\n    <tr>\n      <th>3306</th>\n      <td>106</td>\n      <td>408</td>\n      <td>29</td>\n      <td>131</td>\n      <td>131</td>\n      <td>73</td>\n      <td>3</td>\n      <td>1</td>\n    </tr>\n    <tr>\n      <th>3307</th>\n      <td>172</td>\n      <td>408</td>\n      <td>0</td>\n      <td>109</td>\n      <td>123</td>\n      <td>65</td>\n      <td>4</td>\n      <td>4</td>\n    </tr>\n    <tr>\n      <th>3308</th>\n      <td>45</td>\n      <td>415</td>\n      <td>0</td>\n      <td>87</td>\n      <td>97</td>\n      <td>72</td>\n      <td>6</td>\n      <td>1</td>\n    </tr>\n    <tr>\n      <th>3309</th>\n      <td>100</td>\n      <td>408</td>\n      <td>0</td>\n      <td>112</td>\n      <td>102</td>\n      <td>95</td>\n      <td>4</td>\n      <td>4</td>\n    </tr>\n    <tr>\n      <th>3310</th>\n      <td>94</td>\n      <td>415</td>\n      <td>0</td>\n      <td>91</td>\n      <td>107</td>\n      <td>108</td>\n      <td>17</td>\n      <td>2</td>\n    </tr>\n    <tr>\n      <th>3311</th>\n      <td>128</td>\n      <td>415</td>\n      <td>0</td>\n      <td>94</td>\n      <td>83</td>\n      <td>124</td>\n      <td>5</td>\n      <td>2</td>\n    </tr>\n    <tr>\n      <th>3312</th>\n      <td>181</td>\n      <td>408</td>\n      <td>0</td>\n      <td>130</td>\n      <td>93</td>\n      <td>110</td>\n      <td>4</td>\n      <td>2</td>\n    </tr>\n    <tr>\n      <th>3313</th>\n      <td>127</td>\n      <td>408</td>\n      <td>0</td>\n      <td>128</td>\n      <td>95</td>\n      <td>97</td>\n      <td>5</td>\n      <td>1</td>\n    </tr>\n    <tr>\n      <th>3314</th>\n      <td>89</td>\n      <td>415</td>\n      <td>0</td>\n      <td>81</td>\n      <td>74</td>\n      <td>120</td>\n      <td>4</td>\n      <td>1</td>\n    </tr>\n    <tr>\n      <th>3315</th>\n      <td>149</td>\n      <td>415</td>\n      <td>18</td>\n      <td>106</td>\n      <td>106</td>\n      <td>98</td>\n      <td>4</td>\n      <td>0</td>\n    </tr>\n    <tr>\n      <th>3316</th>\n      <td>103</td>\n      <td>510</td>\n      <td>29</td>\n      <td>111</td>\n      <td>96</td>\n      <td>108</td>\n      <td>9</td>\n      <td>0</td>\n    </tr>\n    <tr>\n      <th>3317</th>\n      <td>163</td>\n      <td>415</td>\n      <td>0</td>\n      <td>90</td>\n      <td>113</td>\n      <td>94</td>\n      <td>8</td>\n      <td>1</td>\n    </tr>\n    <tr>\n      <th>3318</th>\n      <td>52</td>\n      <td>415</td>\n      <td>0</td>\n      <td>131</td>\n      <td>118</td>\n      <td>106</td>\n      <td>4</td>\n      <td>2</td>\n    </tr>\n    <tr>\n      <th>3319</th>\n      <td>89</td>\n      <td>415</td>\n      <td>0</td>\n      <td>99</td>\n      <td>115</td>\n      <td>112</td>\n      <td>6</td>\n      <td>3</td>\n    </tr>\n    <tr>\n      <th>3320</th>\n      <td>122</td>\n      <td>510</td>\n      <td>0</td>\n      <td>101</td>\n      <td>77</td>\n      <td>133</td>\n      <td>4</td>\n      <td>4</td>\n    </tr>\n    <tr>\n      <th>3321</th>\n      <td>60</td>\n      <td>415</td>\n      <td>0</td>\n      <td>118</td>\n      <td>110</td>\n      <td>134</td>\n      <td>8</td>\n      <td>3</td>\n    </tr>\n    <tr>\n      <th>3322</th>\n      <td>62</td>\n      <td>408</td>\n      <td>0</td>\n      <td>105</td>\n      <td>122</td>\n      <td>72</td>\n      <td>2</td>\n      <td>4</td>\n    </tr>\n    <tr>\n      <th>3323</th>\n      <td>117</td>\n      <td>415</td>\n      <td>0</td>\n      <td>126</td>\n      <td>97</td>\n      <td>56</td>\n      <td>3</td>\n      <td>5</td>\n    </tr>\n    <tr>\n      <th>3324</th>\n      <td>159</td>\n      <td>415</td>\n      <td>0</td>\n      <td>114</td>\n      <td>105</td>\n      <td>82</td>\n      <td>4</td>\n      <td>1</td>\n    </tr>\n    <tr>\n      <th>3325</th>\n      <td>78</td>\n      <td>408</td>\n      <td>0</td>\n      <td>99</td>\n      <td>88</td>\n      <td>109</td>\n      <td>4</td>\n      <td>2</td>\n    </tr>\n    <tr>\n      <th>3326</th>\n      <td>96</td>\n      <td>415</td>\n      <td>0</td>\n      <td>128</td>\n      <td>87</td>\n      <td>92</td>\n      <td>7</td>\n      <td>1</td>\n    </tr>\n    <tr>\n      <th>3327</th>\n      <td>79</td>\n      <td>415</td>\n      <td>0</td>\n      <td>98</td>\n      <td>68</td>\n      <td>128</td>\n      <td>5</td>\n      <td>2</td>\n    </tr>\n    <tr>\n      <th>3328</th>\n      <td>192</td>\n      <td>415</td>\n      <td>36</td>\n      <td>77</td>\n      <td>126</td>\n      <td>83</td>\n      <td>6</td>\n      <td>2</td>\n    </tr>\n    <tr>\n      <th>3329</th>\n      <td>68</td>\n      <td>415</td>\n      <td>0</td>\n      <td>57</td>\n      <td>55</td>\n      <td>123</td>\n      <td>4</td>\n      <td>3</td>\n    </tr>\n    <tr>\n      <th>3330</th>\n      <td>28</td>\n      <td>510</td>\n      <td>0</td>\n      <td>109</td>\n      <td>58</td>\n      <td>91</td>\n      <td>6</td>\n      <td>2</td>\n    </tr>\n    <tr>\n      <th>3331</th>\n      <td>184</td>\n      <td>510</td>\n      <td>0</td>\n      <td>105</td>\n      <td>84</td>\n      <td>137</td>\n      <td>10</td>\n      <td>2</td>\n    </tr>\n    <tr>\n      <th>3332</th>\n      <td>74</td>\n      <td>415</td>\n      <td>25</td>\n      <td>113</td>\n      <td>82</td>\n      <td>77</td>\n      <td>4</td>\n      <td>0</td>\n    </tr>\n  </tbody>\n</table>\n<p>3333 rows × 8 columns</p>\n</div>",
            "text/plain": "      Account length  Area code  Number vmail messages  Total day calls  \\\n0                128        415                     25              110   \n1                107        415                     26              123   \n2                137        415                      0              114   \n3                 84        408                      0               71   \n4                 75        415                      0              113   \n5                118        510                      0               98   \n6                121        510                     24               88   \n7                147        415                      0               79   \n8                117        408                      0               97   \n9                141        415                     37               84   \n10                65        415                      0              137   \n11                74        415                      0              127   \n12               168        408                      0               96   \n13                95        510                      0               88   \n14                62        415                      0               70   \n15               161        415                      0               67   \n16                85        408                     27              139   \n17                93        510                      0              114   \n18                76        510                     33               66   \n19                73        415                      0               90   \n20               147        415                      0              117   \n21                77        408                      0               89   \n22               130        415                      0              112   \n23               111        415                      0              103   \n24               132        510                      0               86   \n25               174        415                      0               76   \n26                57        408                     39              115   \n27                54        408                      0               73   \n28                20        415                      0              109   \n29                49        510                      0              117   \n...              ...        ...                    ...              ...   \n3303             114        415                     26               88   \n3304              71        510                      0              114   \n3305              58        415                     22              127   \n3306             106        408                     29              131   \n3307             172        408                      0              109   \n3308              45        415                      0               87   \n3309             100        408                      0              112   \n3310              94        415                      0               91   \n3311             128        415                      0               94   \n3312             181        408                      0              130   \n3313             127        408                      0              128   \n3314              89        415                      0               81   \n3315             149        415                     18              106   \n3316             103        510                     29              111   \n3317             163        415                      0               90   \n3318              52        415                      0              131   \n3319              89        415                      0               99   \n3320             122        510                      0              101   \n3321              60        415                      0              118   \n3322              62        408                      0              105   \n3323             117        415                      0              126   \n3324             159        415                      0              114   \n3325              78        408                      0               99   \n3326              96        415                      0              128   \n3327              79        415                      0               98   \n3328             192        415                     36               77   \n3329              68        415                      0               57   \n3330              28        510                      0              109   \n3331             184        510                      0              105   \n3332              74        415                     25              113   \n\n      Total eve calls  Total night calls  Total intl calls  \\\n0                  99                 91                 3   \n1                 103                103                 3   \n2                 110                104                 5   \n3                  88                 89                 7   \n4                 122                121                 3   \n5                 101                118                 6   \n6                 108                118                 7   \n7                  94                 96                 6   \n8                  80                 90                 4   \n9                 111                 97                 5   \n10                 83                111                 6   \n11                148                 94                 5   \n12                 71                128                 2   \n13                 75                115                 5   \n14                 76                 99                 6   \n15                 97                128                 9   \n16                 90                 75                 4   \n17                111                121                 3   \n18                 65                108                 5   \n19                 88                 74                 2   \n20                 93                133                 4   \n21                121                 64                 6   \n22                 99                 78                19   \n23                102                105                 6   \n24                 72                115                 2   \n25                112                115                 5   \n26                112                115                 3   \n27                100                 68                 4   \n28                 84                102                 6   \n29                109                 90                 1   \n...               ...                ...               ...   \n3303              125                 94                 7   \n3304              140                 80                 5   \n3305               85                 86                 7   \n3306              131                 73                 3   \n3307              123                 65                 4   \n3308               97                 72                 6   \n3309              102                 95                 4   \n3310              107                108                17   \n3311               83                124                 5   \n3312               93                110                 4   \n3313               95                 97                 5   \n3314               74                120                 4   \n3315              106                 98                 4   \n3316               96                108                 9   \n3317              113                 94                 8   \n3318              118                106                 4   \n3319              115                112                 6   \n3320               77                133                 4   \n3321              110                134                 8   \n3322              122                 72                 2   \n3323               97                 56                 3   \n3324              105                 82                 4   \n3325               88                109                 4   \n3326               87                 92                 7   \n3327               68                128                 5   \n3328              126                 83                 6   \n3329               55                123                 4   \n3330               58                 91                 6   \n3331               84                137                10   \n3332               82                 77                 4   \n\n      Customer service calls  \n0                          1  \n1                          1  \n2                          0  \n3                          2  \n4                          3  \n5                          0  \n6                          3  \n7                          0  \n8                          1  \n9                          0  \n10                         4  \n11                         0  \n12                         1  \n13                         3  \n14                         4  \n15                         4  \n16                         1  \n17                         3  \n18                         1  \n19                         1  \n20                         0  \n21                         5  \n22                         0  \n23                         2  \n24                         0  \n25                         3  \n26                         0  \n27                         3  \n28                         0  \n29                         1  \n...                      ...  \n3303                       2  \n3304                       4  \n3305                       2  \n3306                       1  \n3307                       4  \n3308                       1  \n3309                       4  \n3310                       2  \n3311                       2  \n3312                       2  \n3313                       1  \n3314                       1  \n3315                       0  \n3316                       0  \n3317                       1  \n3318                       2  \n3319                       3  \n3320                       4  \n3321                       3  \n3322                       4  \n3323                       5  \n3324                       1  \n3325                       2  \n3326                       1  \n3327                       2  \n3328                       2  \n3329                       3  \n3330                       2  \n3331                       2  \n3332                       0  \n\n[3333 rows x 8 columns]"
          },
          "metadata": {}
        }
      ]
    },
    {
      "metadata": {
        "trusted": true
      },
      "cell_type": "code",
      "source": "df1=df.copy()\ndf1.head()",
      "execution_count": 20,
      "outputs": [
        {
          "output_type": "execute_result",
          "execution_count": 20,
          "data": {
            "text/html": "<div>\n<style scoped>\n    .dataframe tbody tr th:only-of-type {\n        vertical-align: middle;\n    }\n\n    .dataframe tbody tr th {\n        vertical-align: top;\n    }\n\n    .dataframe thead th {\n        text-align: right;\n    }\n</style>\n<table border=\"1\" class=\"dataframe\">\n  <thead>\n    <tr style=\"text-align: right;\">\n      <th></th>\n      <th>State</th>\n      <th>Account length</th>\n      <th>Area code</th>\n      <th>International plan</th>\n      <th>Voice mail plan</th>\n      <th>Number vmail messages</th>\n      <th>Total day minutes</th>\n      <th>Total day calls</th>\n      <th>Total day charge</th>\n      <th>Total eve minutes</th>\n      <th>Total eve calls</th>\n      <th>Total eve charge</th>\n      <th>Total night minutes</th>\n      <th>Total night calls</th>\n      <th>Total night charge</th>\n      <th>Total intl minutes</th>\n      <th>Total intl calls</th>\n      <th>Total intl charge</th>\n      <th>Customer service calls</th>\n      <th>Churn</th>\n    </tr>\n  </thead>\n  <tbody>\n    <tr>\n      <th>0</th>\n      <td>KS</td>\n      <td>128</td>\n      <td>415</td>\n      <td>No</td>\n      <td>Yes</td>\n      <td>25</td>\n      <td>265.1</td>\n      <td>110</td>\n      <td>45.07</td>\n      <td>197.4</td>\n      <td>99</td>\n      <td>16.78</td>\n      <td>244.7</td>\n      <td>91</td>\n      <td>11.01</td>\n      <td>10.0</td>\n      <td>3</td>\n      <td>2.70</td>\n      <td>1</td>\n      <td>False</td>\n    </tr>\n    <tr>\n      <th>1</th>\n      <td>OH</td>\n      <td>107</td>\n      <td>415</td>\n      <td>No</td>\n      <td>Yes</td>\n      <td>26</td>\n      <td>161.6</td>\n      <td>123</td>\n      <td>27.47</td>\n      <td>195.5</td>\n      <td>103</td>\n      <td>16.62</td>\n      <td>254.4</td>\n      <td>103</td>\n      <td>11.45</td>\n      <td>13.7</td>\n      <td>3</td>\n      <td>3.70</td>\n      <td>1</td>\n      <td>False</td>\n    </tr>\n    <tr>\n      <th>2</th>\n      <td>NJ</td>\n      <td>137</td>\n      <td>415</td>\n      <td>No</td>\n      <td>No</td>\n      <td>0</td>\n      <td>243.4</td>\n      <td>114</td>\n      <td>41.38</td>\n      <td>121.2</td>\n      <td>110</td>\n      <td>10.30</td>\n      <td>162.6</td>\n      <td>104</td>\n      <td>7.32</td>\n      <td>12.2</td>\n      <td>5</td>\n      <td>3.29</td>\n      <td>0</td>\n      <td>False</td>\n    </tr>\n    <tr>\n      <th>3</th>\n      <td>OH</td>\n      <td>84</td>\n      <td>408</td>\n      <td>Yes</td>\n      <td>No</td>\n      <td>0</td>\n      <td>299.4</td>\n      <td>71</td>\n      <td>50.90</td>\n      <td>61.9</td>\n      <td>88</td>\n      <td>5.26</td>\n      <td>196.9</td>\n      <td>89</td>\n      <td>8.86</td>\n      <td>6.6</td>\n      <td>7</td>\n      <td>1.78</td>\n      <td>2</td>\n      <td>False</td>\n    </tr>\n    <tr>\n      <th>4</th>\n      <td>OK</td>\n      <td>75</td>\n      <td>415</td>\n      <td>Yes</td>\n      <td>No</td>\n      <td>0</td>\n      <td>166.7</td>\n      <td>113</td>\n      <td>28.34</td>\n      <td>148.3</td>\n      <td>122</td>\n      <td>12.61</td>\n      <td>186.9</td>\n      <td>121</td>\n      <td>8.41</td>\n      <td>10.1</td>\n      <td>3</td>\n      <td>2.73</td>\n      <td>3</td>\n      <td>False</td>\n    </tr>\n  </tbody>\n</table>\n</div>",
            "text/plain": "  State  Account length  Area code International plan Voice mail plan  \\\n0    KS             128        415                 No             Yes   \n1    OH             107        415                 No             Yes   \n2    NJ             137        415                 No              No   \n3    OH              84        408                Yes              No   \n4    OK              75        415                Yes              No   \n\n   Number vmail messages  Total day minutes  Total day calls  \\\n0                     25              265.1              110   \n1                     26              161.6              123   \n2                      0              243.4              114   \n3                      0              299.4               71   \n4                      0              166.7              113   \n\n   Total day charge  Total eve minutes  Total eve calls  Total eve charge  \\\n0             45.07              197.4               99             16.78   \n1             27.47              195.5              103             16.62   \n2             41.38              121.2              110             10.30   \n3             50.90               61.9               88              5.26   \n4             28.34              148.3              122             12.61   \n\n   Total night minutes  Total night calls  Total night charge  \\\n0                244.7                 91               11.01   \n1                254.4                103               11.45   \n2                162.6                104                7.32   \n3                196.9                 89                8.86   \n4                186.9                121                8.41   \n\n   Total intl minutes  Total intl calls  Total intl charge  \\\n0                10.0                 3               2.70   \n1                13.7                 3               3.70   \n2                12.2                 5               3.29   \n3                 6.6                 7               1.78   \n4                10.1                 3               2.73   \n\n   Customer service calls  Churn  \n0                       1  False  \n1                       1  False  \n2                       0  False  \n3                       2  False  \n4                       3  False  "
          },
          "metadata": {}
        }
      ]
    },
    {
      "metadata": {
        "trusted": true
      },
      "cell_type": "code",
      "source": "df['Churn']=df['Churn'].astype('int64')\nprint(df.info())",
      "execution_count": 15,
      "outputs": [
        {
          "output_type": "stream",
          "text": "<class 'pandas.core.frame.DataFrame'>\nRangeIndex: 3333 entries, 0 to 3332\nData columns (total 20 columns):\nState                     3333 non-null object\nAccount length            3333 non-null int64\nArea code                 3333 non-null int64\nInternational plan        3333 non-null object\nVoice mail plan           3333 non-null object\nNumber vmail messages     3333 non-null int64\nTotal day minutes         3333 non-null float64\nTotal day calls           3333 non-null int64\nTotal day charge          3333 non-null float64\nTotal eve minutes         3333 non-null float64\nTotal eve calls           3333 non-null int64\nTotal eve charge          3333 non-null float64\nTotal night minutes       3333 non-null float64\nTotal night calls         3333 non-null int64\nTotal night charge        3333 non-null float64\nTotal intl minutes        3333 non-null float64\nTotal intl calls          3333 non-null int64\nTotal intl charge         3333 non-null float64\nCustomer service calls    3333 non-null int64\nChurn                     3333 non-null int64\ndtypes: float64(8), int64(9), object(3)\nmemory usage: 520.9+ KB\nNone\n",
          "name": "stdout"
        }
      ]
    },
    {
      "metadata": {
        "trusted": true
      },
      "cell_type": "code",
      "source": "df.describe(include=['int64','float64'])",
      "execution_count": 20,
      "outputs": [
        {
          "output_type": "execute_result",
          "execution_count": 20,
          "data": {
            "text/html": "<div>\n<style scoped>\n    .dataframe tbody tr th:only-of-type {\n        vertical-align: middle;\n    }\n\n    .dataframe tbody tr th {\n        vertical-align: top;\n    }\n\n    .dataframe thead th {\n        text-align: right;\n    }\n</style>\n<table border=\"1\" class=\"dataframe\">\n  <thead>\n    <tr style=\"text-align: right;\">\n      <th></th>\n      <th>Account length</th>\n      <th>Area code</th>\n      <th>Number vmail messages</th>\n      <th>Total day minutes</th>\n      <th>Total day calls</th>\n      <th>Total day charge</th>\n      <th>Total eve minutes</th>\n      <th>Total eve calls</th>\n      <th>Total eve charge</th>\n      <th>Total night minutes</th>\n      <th>Total night calls</th>\n      <th>Total night charge</th>\n      <th>Total intl minutes</th>\n      <th>Total intl calls</th>\n      <th>Total intl charge</th>\n      <th>Customer service calls</th>\n      <th>Churn</th>\n    </tr>\n  </thead>\n  <tbody>\n    <tr>\n      <th>count</th>\n      <td>3333.000000</td>\n      <td>3333.000000</td>\n      <td>3333.000000</td>\n      <td>3333.000000</td>\n      <td>3333.000000</td>\n      <td>3333.000000</td>\n      <td>3333.000000</td>\n      <td>3333.000000</td>\n      <td>3333.000000</td>\n      <td>3333.000000</td>\n      <td>3333.000000</td>\n      <td>3333.000000</td>\n      <td>3333.000000</td>\n      <td>3333.000000</td>\n      <td>3333.000000</td>\n      <td>3333.000000</td>\n      <td>3333.000000</td>\n    </tr>\n    <tr>\n      <th>mean</th>\n      <td>101.064806</td>\n      <td>437.182418</td>\n      <td>8.099010</td>\n      <td>179.775098</td>\n      <td>100.435644</td>\n      <td>30.562307</td>\n      <td>200.980348</td>\n      <td>100.114311</td>\n      <td>17.083540</td>\n      <td>200.872037</td>\n      <td>100.107711</td>\n      <td>9.039325</td>\n      <td>10.237294</td>\n      <td>4.479448</td>\n      <td>2.764581</td>\n      <td>1.562856</td>\n      <td>0.144914</td>\n    </tr>\n    <tr>\n      <th>std</th>\n      <td>39.822106</td>\n      <td>42.371290</td>\n      <td>13.688365</td>\n      <td>54.467389</td>\n      <td>20.069084</td>\n      <td>9.259435</td>\n      <td>50.713844</td>\n      <td>19.922625</td>\n      <td>4.310668</td>\n      <td>50.573847</td>\n      <td>19.568609</td>\n      <td>2.275873</td>\n      <td>2.791840</td>\n      <td>2.461214</td>\n      <td>0.753773</td>\n      <td>1.315491</td>\n      <td>0.352067</td>\n    </tr>\n    <tr>\n      <th>min</th>\n      <td>1.000000</td>\n      <td>408.000000</td>\n      <td>0.000000</td>\n      <td>0.000000</td>\n      <td>0.000000</td>\n      <td>0.000000</td>\n      <td>0.000000</td>\n      <td>0.000000</td>\n      <td>0.000000</td>\n      <td>23.200000</td>\n      <td>33.000000</td>\n      <td>1.040000</td>\n      <td>0.000000</td>\n      <td>0.000000</td>\n      <td>0.000000</td>\n      <td>0.000000</td>\n      <td>0.000000</td>\n    </tr>\n    <tr>\n      <th>25%</th>\n      <td>74.000000</td>\n      <td>408.000000</td>\n      <td>0.000000</td>\n      <td>143.700000</td>\n      <td>87.000000</td>\n      <td>24.430000</td>\n      <td>166.600000</td>\n      <td>87.000000</td>\n      <td>14.160000</td>\n      <td>167.000000</td>\n      <td>87.000000</td>\n      <td>7.520000</td>\n      <td>8.500000</td>\n      <td>3.000000</td>\n      <td>2.300000</td>\n      <td>1.000000</td>\n      <td>0.000000</td>\n    </tr>\n    <tr>\n      <th>50%</th>\n      <td>101.000000</td>\n      <td>415.000000</td>\n      <td>0.000000</td>\n      <td>179.400000</td>\n      <td>101.000000</td>\n      <td>30.500000</td>\n      <td>201.400000</td>\n      <td>100.000000</td>\n      <td>17.120000</td>\n      <td>201.200000</td>\n      <td>100.000000</td>\n      <td>9.050000</td>\n      <td>10.300000</td>\n      <td>4.000000</td>\n      <td>2.780000</td>\n      <td>1.000000</td>\n      <td>0.000000</td>\n    </tr>\n    <tr>\n      <th>75%</th>\n      <td>127.000000</td>\n      <td>510.000000</td>\n      <td>20.000000</td>\n      <td>216.400000</td>\n      <td>114.000000</td>\n      <td>36.790000</td>\n      <td>235.300000</td>\n      <td>114.000000</td>\n      <td>20.000000</td>\n      <td>235.300000</td>\n      <td>113.000000</td>\n      <td>10.590000</td>\n      <td>12.100000</td>\n      <td>6.000000</td>\n      <td>3.270000</td>\n      <td>2.000000</td>\n      <td>0.000000</td>\n    </tr>\n    <tr>\n      <th>max</th>\n      <td>243.000000</td>\n      <td>510.000000</td>\n      <td>51.000000</td>\n      <td>350.800000</td>\n      <td>165.000000</td>\n      <td>59.640000</td>\n      <td>363.700000</td>\n      <td>170.000000</td>\n      <td>30.910000</td>\n      <td>395.000000</td>\n      <td>175.000000</td>\n      <td>17.770000</td>\n      <td>20.000000</td>\n      <td>20.000000</td>\n      <td>5.400000</td>\n      <td>9.000000</td>\n      <td>1.000000</td>\n    </tr>\n  </tbody>\n</table>\n</div>",
            "text/plain": "       Account length    Area code  Number vmail messages  Total day minutes  \\\ncount     3333.000000  3333.000000            3333.000000        3333.000000   \nmean       101.064806   437.182418               8.099010         179.775098   \nstd         39.822106    42.371290              13.688365          54.467389   \nmin          1.000000   408.000000               0.000000           0.000000   \n25%         74.000000   408.000000               0.000000         143.700000   \n50%        101.000000   415.000000               0.000000         179.400000   \n75%        127.000000   510.000000              20.000000         216.400000   \nmax        243.000000   510.000000              51.000000         350.800000   \n\n       Total day calls  Total day charge  Total eve minutes  Total eve calls  \\\ncount      3333.000000       3333.000000        3333.000000      3333.000000   \nmean        100.435644         30.562307         200.980348       100.114311   \nstd          20.069084          9.259435          50.713844        19.922625   \nmin           0.000000          0.000000           0.000000         0.000000   \n25%          87.000000         24.430000         166.600000        87.000000   \n50%         101.000000         30.500000         201.400000       100.000000   \n75%         114.000000         36.790000         235.300000       114.000000   \nmax         165.000000         59.640000         363.700000       170.000000   \n\n       Total eve charge  Total night minutes  Total night calls  \\\ncount       3333.000000          3333.000000        3333.000000   \nmean          17.083540           200.872037         100.107711   \nstd            4.310668            50.573847          19.568609   \nmin            0.000000            23.200000          33.000000   \n25%           14.160000           167.000000          87.000000   \n50%           17.120000           201.200000         100.000000   \n75%           20.000000           235.300000         113.000000   \nmax           30.910000           395.000000         175.000000   \n\n       Total night charge  Total intl minutes  Total intl calls  \\\ncount         3333.000000         3333.000000       3333.000000   \nmean             9.039325           10.237294          4.479448   \nstd              2.275873            2.791840          2.461214   \nmin              1.040000            0.000000          0.000000   \n25%              7.520000            8.500000          3.000000   \n50%              9.050000           10.300000          4.000000   \n75%             10.590000           12.100000          6.000000   \nmax             17.770000           20.000000         20.000000   \n\n       Total intl charge  Customer service calls        Churn  \ncount        3333.000000             3333.000000  3333.000000  \nmean            2.764581                1.562856     0.144914  \nstd             0.753773                1.315491     0.352067  \nmin             0.000000                0.000000     0.000000  \n25%             2.300000                1.000000     0.000000  \n50%             2.780000                1.000000     0.000000  \n75%             3.270000                2.000000     0.000000  \nmax             5.400000                9.000000     1.000000  "
          },
          "metadata": {}
        }
      ]
    },
    {
      "metadata": {
        "trusted": true
      },
      "cell_type": "code",
      "source": "df['Total intl calls'].value_counts()",
      "execution_count": 23,
      "outputs": [
        {
          "output_type": "execute_result",
          "execution_count": 23,
          "data": {
            "text/plain": "3     668\n4     619\n2     489\n5     472\n6     336\n7     218\n1     160\n8     116\n9     109\n10     50\n11     28\n0      18\n12     15\n13     14\n15      7\n14      6\n18      3\n16      2\n19      1\n17      1\n20      1\nName: Total intl calls, dtype: int64"
          },
          "metadata": {}
        }
      ]
    },
    {
      "metadata": {
        "trusted": true
      },
      "cell_type": "code",
      "source": "df['Churn'].value_counts(normalize=True)",
      "execution_count": 25,
      "outputs": [
        {
          "output_type": "execute_result",
          "execution_count": 25,
          "data": {
            "text/plain": "0    0.855086\n1    0.144914\nName: Churn, dtype: float64"
          },
          "metadata": {}
        }
      ]
    },
    {
      "metadata": {
        "trusted": true
      },
      "cell_type": "code",
      "source": "df.sort_values(by='Total intl calls',ascending=False).head()",
      "execution_count": 29,
      "outputs": [
        {
          "output_type": "execute_result",
          "execution_count": 29,
          "data": {
            "text/html": "<div>\n<style scoped>\n    .dataframe tbody tr th:only-of-type {\n        vertical-align: middle;\n    }\n\n    .dataframe tbody tr th {\n        vertical-align: top;\n    }\n\n    .dataframe thead th {\n        text-align: right;\n    }\n</style>\n<table border=\"1\" class=\"dataframe\">\n  <thead>\n    <tr style=\"text-align: right;\">\n      <th></th>\n      <th>State</th>\n      <th>Account length</th>\n      <th>Area code</th>\n      <th>International plan</th>\n      <th>Voice mail plan</th>\n      <th>Number vmail messages</th>\n      <th>Total day minutes</th>\n      <th>Total day calls</th>\n      <th>Total day charge</th>\n      <th>Total eve minutes</th>\n      <th>Total eve calls</th>\n      <th>Total eve charge</th>\n      <th>Total night minutes</th>\n      <th>Total night calls</th>\n      <th>Total night charge</th>\n      <th>Total intl minutes</th>\n      <th>Total intl calls</th>\n      <th>Total intl charge</th>\n      <th>Customer service calls</th>\n      <th>Churn</th>\n    </tr>\n  </thead>\n  <tbody>\n    <tr>\n      <th>3291</th>\n      <td>MI</td>\n      <td>119</td>\n      <td>510</td>\n      <td>Yes</td>\n      <td>Yes</td>\n      <td>22</td>\n      <td>172.1</td>\n      <td>119</td>\n      <td>29.26</td>\n      <td>223.6</td>\n      <td>133</td>\n      <td>19.01</td>\n      <td>150.0</td>\n      <td>94</td>\n      <td>6.75</td>\n      <td>13.9</td>\n      <td>20</td>\n      <td>3.75</td>\n      <td>1</td>\n      <td>1</td>\n    </tr>\n    <tr>\n      <th>22</th>\n      <td>AZ</td>\n      <td>130</td>\n      <td>415</td>\n      <td>No</td>\n      <td>No</td>\n      <td>0</td>\n      <td>183.0</td>\n      <td>112</td>\n      <td>31.11</td>\n      <td>72.9</td>\n      <td>99</td>\n      <td>6.20</td>\n      <td>181.8</td>\n      <td>78</td>\n      <td>8.18</td>\n      <td>9.5</td>\n      <td>19</td>\n      <td>2.57</td>\n      <td>0</td>\n      <td>0</td>\n    </tr>\n    <tr>\n      <th>982</th>\n      <td>ND</td>\n      <td>84</td>\n      <td>415</td>\n      <td>No</td>\n      <td>Yes</td>\n      <td>33</td>\n      <td>159.1</td>\n      <td>106</td>\n      <td>27.05</td>\n      <td>149.8</td>\n      <td>101</td>\n      <td>12.73</td>\n      <td>213.4</td>\n      <td>108</td>\n      <td>9.60</td>\n      <td>13.0</td>\n      <td>18</td>\n      <td>3.51</td>\n      <td>1</td>\n      <td>0</td>\n    </tr>\n    <tr>\n      <th>2956</th>\n      <td>NM</td>\n      <td>112</td>\n      <td>415</td>\n      <td>No</td>\n      <td>No</td>\n      <td>0</td>\n      <td>81.6</td>\n      <td>94</td>\n      <td>13.87</td>\n      <td>268.1</td>\n      <td>112</td>\n      <td>22.79</td>\n      <td>140.8</td>\n      <td>75</td>\n      <td>6.34</td>\n      <td>8.6</td>\n      <td>18</td>\n      <td>2.32</td>\n      <td>1</td>\n      <td>0</td>\n    </tr>\n    <tr>\n      <th>377</th>\n      <td>ND</td>\n      <td>79</td>\n      <td>408</td>\n      <td>No</td>\n      <td>No</td>\n      <td>0</td>\n      <td>205.7</td>\n      <td>123</td>\n      <td>34.97</td>\n      <td>214.5</td>\n      <td>108</td>\n      <td>18.23</td>\n      <td>226.1</td>\n      <td>106</td>\n      <td>10.17</td>\n      <td>6.7</td>\n      <td>18</td>\n      <td>1.81</td>\n      <td>1</td>\n      <td>0</td>\n    </tr>\n  </tbody>\n</table>\n</div>",
            "text/plain": "     State  Account length  Area code International plan Voice mail plan  \\\n3291    MI             119        510                Yes             Yes   \n22      AZ             130        415                 No              No   \n982     ND              84        415                 No             Yes   \n2956    NM             112        415                 No              No   \n377     ND              79        408                 No              No   \n\n      Number vmail messages  Total day minutes  Total day calls  \\\n3291                     22              172.1              119   \n22                        0              183.0              112   \n982                      33              159.1              106   \n2956                      0               81.6               94   \n377                       0              205.7              123   \n\n      Total day charge  Total eve minutes  Total eve calls  Total eve charge  \\\n3291             29.26              223.6              133             19.01   \n22               31.11               72.9               99              6.20   \n982              27.05              149.8              101             12.73   \n2956             13.87              268.1              112             22.79   \n377              34.97              214.5              108             18.23   \n\n      Total night minutes  Total night calls  Total night charge  \\\n3291                150.0                 94                6.75   \n22                  181.8                 78                8.18   \n982                 213.4                108                9.60   \n2956                140.8                 75                6.34   \n377                 226.1                106               10.17   \n\n      Total intl minutes  Total intl calls  Total intl charge  \\\n3291                13.9                20               3.75   \n22                   9.5                19               2.57   \n982                 13.0                18               3.51   \n2956                 8.6                18               2.32   \n377                  6.7                18               1.81   \n\n      Customer service calls  Churn  \n3291                       1      1  \n22                         0      0  \n982                        1      0  \n2956                       1      0  \n377                        1      0  "
          },
          "metadata": {}
        }
      ]
    },
    {
      "metadata": {
        "trusted": true
      },
      "cell_type": "code",
      "source": "df['Churn'].mean()",
      "execution_count": 31,
      "outputs": [
        {
          "output_type": "execute_result",
          "execution_count": 31,
          "data": {
            "text/plain": "0.14491449144914492"
          },
          "metadata": {}
        }
      ]
    },
    {
      "metadata": {
        "trusted": true
      },
      "cell_type": "code",
      "source": "df[df['Churn']==0].mean()",
      "execution_count": 5,
      "outputs": [
        {
          "output_type": "execute_result",
          "execution_count": 5,
          "data": {
            "text/plain": "Account length            100.793684\nArea code                 437.074737\nNumber vmail messages       8.604561\nTotal day minutes         175.175754\nTotal day calls           100.283158\nTotal day charge           29.780421\nTotal eve minutes         199.043298\nTotal eve calls           100.038596\nTotal eve charge           16.918909\nTotal night minutes       200.133193\nTotal night calls         100.058246\nTotal night charge          9.006074\nTotal intl minutes         10.158877\nTotal intl calls            4.532982\nTotal intl charge           2.743404\nCustomer service calls      1.449825\nChurn                       0.000000\ndtype: float64"
          },
          "metadata": {}
        }
      ]
    },
    {
      "metadata": {
        "trusted": true
      },
      "cell_type": "code",
      "source": "df[df['Churn']==1]['Total day minutes'].mean()",
      "execution_count": 6,
      "outputs": [
        {
          "output_type": "execute_result",
          "execution_count": 6,
          "data": {
            "text/plain": "206.91407867494814"
          },
          "metadata": {}
        }
      ]
    },
    {
      "metadata": {
        "trusted": true
      },
      "cell_type": "code",
      "source": "df[(df['Churn']==0)&(df['International plan']=='No')]['Total intl minutes'].max()",
      "execution_count": 8,
      "outputs": [
        {
          "output_type": "execute_result",
          "execution_count": 8,
          "data": {
            "text/plain": "18.9"
          },
          "metadata": {}
        }
      ]
    },
    {
      "metadata": {
        "trusted": true
      },
      "cell_type": "code",
      "source": "df.loc[0:5,'State':'Area code']",
      "execution_count": 9,
      "outputs": [
        {
          "output_type": "execute_result",
          "execution_count": 9,
          "data": {
            "text/html": "<div>\n<style scoped>\n    .dataframe tbody tr th:only-of-type {\n        vertical-align: middle;\n    }\n\n    .dataframe tbody tr th {\n        vertical-align: top;\n    }\n\n    .dataframe thead th {\n        text-align: right;\n    }\n</style>\n<table border=\"1\" class=\"dataframe\">\n  <thead>\n    <tr style=\"text-align: right;\">\n      <th></th>\n      <th>State</th>\n      <th>Account length</th>\n      <th>Area code</th>\n    </tr>\n  </thead>\n  <tbody>\n    <tr>\n      <th>0</th>\n      <td>KS</td>\n      <td>128</td>\n      <td>415</td>\n    </tr>\n    <tr>\n      <th>1</th>\n      <td>OH</td>\n      <td>107</td>\n      <td>415</td>\n    </tr>\n    <tr>\n      <th>2</th>\n      <td>NJ</td>\n      <td>137</td>\n      <td>415</td>\n    </tr>\n    <tr>\n      <th>3</th>\n      <td>OH</td>\n      <td>84</td>\n      <td>408</td>\n    </tr>\n    <tr>\n      <th>4</th>\n      <td>OK</td>\n      <td>75</td>\n      <td>415</td>\n    </tr>\n    <tr>\n      <th>5</th>\n      <td>AL</td>\n      <td>118</td>\n      <td>510</td>\n    </tr>\n  </tbody>\n</table>\n</div>",
            "text/plain": "  State  Account length  Area code\n0    KS             128        415\n1    OH             107        415\n2    NJ             137        415\n3    OH              84        408\n4    OK              75        415\n5    AL             118        510"
          },
          "metadata": {}
        }
      ]
    },
    {
      "metadata": {
        "trusted": true
      },
      "cell_type": "code",
      "source": "df.iloc[0:5,0:3]",
      "execution_count": 10,
      "outputs": [
        {
          "output_type": "execute_result",
          "execution_count": 10,
          "data": {
            "text/html": "<div>\n<style scoped>\n    .dataframe tbody tr th:only-of-type {\n        vertical-align: middle;\n    }\n\n    .dataframe tbody tr th {\n        vertical-align: top;\n    }\n\n    .dataframe thead th {\n        text-align: right;\n    }\n</style>\n<table border=\"1\" class=\"dataframe\">\n  <thead>\n    <tr style=\"text-align: right;\">\n      <th></th>\n      <th>State</th>\n      <th>Account length</th>\n      <th>Area code</th>\n    </tr>\n  </thead>\n  <tbody>\n    <tr>\n      <th>0</th>\n      <td>KS</td>\n      <td>128</td>\n      <td>415</td>\n    </tr>\n    <tr>\n      <th>1</th>\n      <td>OH</td>\n      <td>107</td>\n      <td>415</td>\n    </tr>\n    <tr>\n      <th>2</th>\n      <td>NJ</td>\n      <td>137</td>\n      <td>415</td>\n    </tr>\n    <tr>\n      <th>3</th>\n      <td>OH</td>\n      <td>84</td>\n      <td>408</td>\n    </tr>\n    <tr>\n      <th>4</th>\n      <td>OK</td>\n      <td>75</td>\n      <td>415</td>\n    </tr>\n  </tbody>\n</table>\n</div>",
            "text/plain": "  State  Account length  Area code\n0    KS             128        415\n1    OH             107        415\n2    NJ             137        415\n3    OH              84        408\n4    OK              75        415"
          },
          "metadata": {}
        }
      ]
    },
    {
      "metadata": {
        "trusted": true
      },
      "cell_type": "code",
      "source": "df[:1]",
      "execution_count": 18,
      "outputs": [
        {
          "output_type": "execute_result",
          "execution_count": 18,
          "data": {
            "text/html": "<div>\n<style scoped>\n    .dataframe tbody tr th:only-of-type {\n        vertical-align: middle;\n    }\n\n    .dataframe tbody tr th {\n        vertical-align: top;\n    }\n\n    .dataframe thead th {\n        text-align: right;\n    }\n</style>\n<table border=\"1\" class=\"dataframe\">\n  <thead>\n    <tr style=\"text-align: right;\">\n      <th></th>\n      <th>State</th>\n      <th>Account length</th>\n      <th>Area code</th>\n      <th>International plan</th>\n      <th>Voice mail plan</th>\n      <th>Number vmail messages</th>\n      <th>Total day minutes</th>\n      <th>Total day calls</th>\n      <th>Total day charge</th>\n      <th>Total eve minutes</th>\n      <th>Total eve calls</th>\n      <th>Total eve charge</th>\n      <th>Total night minutes</th>\n      <th>Total night calls</th>\n      <th>Total night charge</th>\n      <th>Total intl minutes</th>\n      <th>Total intl calls</th>\n      <th>Total intl charge</th>\n      <th>Customer service calls</th>\n      <th>Churn</th>\n    </tr>\n  </thead>\n  <tbody>\n    <tr>\n      <th>0</th>\n      <td>KS</td>\n      <td>128</td>\n      <td>415</td>\n      <td>No</td>\n      <td>Yes</td>\n      <td>25</td>\n      <td>265.1</td>\n      <td>110</td>\n      <td>45.07</td>\n      <td>197.4</td>\n      <td>99</td>\n      <td>16.78</td>\n      <td>244.7</td>\n      <td>91</td>\n      <td>11.01</td>\n      <td>10.0</td>\n      <td>3</td>\n      <td>2.7</td>\n      <td>1</td>\n      <td>False</td>\n    </tr>\n  </tbody>\n</table>\n</div>",
            "text/plain": "  State  Account length  Area code International plan Voice mail plan  \\\n0    KS             128        415                 No             Yes   \n\n   Number vmail messages  Total day minutes  Total day calls  \\\n0                     25              265.1              110   \n\n   Total day charge  Total eve minutes  Total eve calls  Total eve charge  \\\n0             45.07              197.4               99             16.78   \n\n   Total night minutes  Total night calls  Total night charge  \\\n0                244.7                 91               11.01   \n\n   Total intl minutes  Total intl calls  Total intl charge  \\\n0                10.0                 3                2.7   \n\n   Customer service calls  Churn  \n0                       1  False  "
          },
          "metadata": {}
        }
      ]
    },
    {
      "metadata": {
        "trusted": true
      },
      "cell_type": "code",
      "source": "df.apply(np.max)",
      "execution_count": 19,
      "outputs": [
        {
          "output_type": "execute_result",
          "execution_count": 19,
          "data": {
            "text/plain": "State                        WY\nAccount length              243\nArea code                   510\nInternational plan          Yes\nVoice mail plan             Yes\nNumber vmail messages        51\nTotal day minutes         350.8\nTotal day calls             165\nTotal day charge          59.64\nTotal eve minutes         363.7\nTotal eve calls             170\nTotal eve charge          30.91\nTotal night minutes         395\nTotal night calls           175\nTotal night charge        17.77\nTotal intl minutes           20\nTotal intl calls             20\nTotal intl charge           5.4\nCustomer service calls        9\nChurn                      True\ndtype: object"
          },
          "metadata": {}
        }
      ]
    },
    {
      "metadata": {
        "trusted": true
      },
      "cell_type": "code",
      "source": "df[df['State'].apply(lambda State : State[0]=='W')].head()",
      "execution_count": 26,
      "outputs": [
        {
          "output_type": "execute_result",
          "execution_count": 26,
          "data": {
            "text/html": "<div>\n<style scoped>\n    .dataframe tbody tr th:only-of-type {\n        vertical-align: middle;\n    }\n\n    .dataframe tbody tr th {\n        vertical-align: top;\n    }\n\n    .dataframe thead th {\n        text-align: right;\n    }\n</style>\n<table border=\"1\" class=\"dataframe\">\n  <thead>\n    <tr style=\"text-align: right;\">\n      <th></th>\n      <th>State</th>\n      <th>Account length</th>\n      <th>Area code</th>\n      <th>International plan</th>\n      <th>Voice mail plan</th>\n      <th>Number vmail messages</th>\n      <th>Total day minutes</th>\n      <th>Total day calls</th>\n      <th>Total day charge</th>\n      <th>Total eve minutes</th>\n      <th>Total eve calls</th>\n      <th>Total eve charge</th>\n      <th>Total night minutes</th>\n      <th>Total night calls</th>\n      <th>Total night charge</th>\n      <th>Total intl minutes</th>\n      <th>Total intl calls</th>\n      <th>Total intl charge</th>\n      <th>Customer service calls</th>\n      <th>Churn</th>\n    </tr>\n  </thead>\n  <tbody>\n    <tr>\n      <th>9</th>\n      <td>WV</td>\n      <td>141</td>\n      <td>415</td>\n      <td>Yes</td>\n      <td>Yes</td>\n      <td>37</td>\n      <td>258.6</td>\n      <td>84</td>\n      <td>43.96</td>\n      <td>222.0</td>\n      <td>111</td>\n      <td>18.87</td>\n      <td>326.4</td>\n      <td>97</td>\n      <td>14.69</td>\n      <td>11.2</td>\n      <td>5</td>\n      <td>3.02</td>\n      <td>0</td>\n      <td>False</td>\n    </tr>\n    <tr>\n      <th>26</th>\n      <td>WY</td>\n      <td>57</td>\n      <td>408</td>\n      <td>No</td>\n      <td>Yes</td>\n      <td>39</td>\n      <td>213.0</td>\n      <td>115</td>\n      <td>36.21</td>\n      <td>191.1</td>\n      <td>112</td>\n      <td>16.24</td>\n      <td>182.7</td>\n      <td>115</td>\n      <td>8.22</td>\n      <td>9.5</td>\n      <td>3</td>\n      <td>2.57</td>\n      <td>0</td>\n      <td>False</td>\n    </tr>\n    <tr>\n      <th>44</th>\n      <td>WI</td>\n      <td>64</td>\n      <td>510</td>\n      <td>No</td>\n      <td>No</td>\n      <td>0</td>\n      <td>154.0</td>\n      <td>67</td>\n      <td>26.18</td>\n      <td>225.8</td>\n      <td>118</td>\n      <td>19.19</td>\n      <td>265.3</td>\n      <td>86</td>\n      <td>11.94</td>\n      <td>3.5</td>\n      <td>3</td>\n      <td>0.95</td>\n      <td>1</td>\n      <td>False</td>\n    </tr>\n    <tr>\n      <th>49</th>\n      <td>WY</td>\n      <td>97</td>\n      <td>415</td>\n      <td>No</td>\n      <td>Yes</td>\n      <td>24</td>\n      <td>133.2</td>\n      <td>135</td>\n      <td>22.64</td>\n      <td>217.2</td>\n      <td>58</td>\n      <td>18.46</td>\n      <td>70.6</td>\n      <td>79</td>\n      <td>3.18</td>\n      <td>11.0</td>\n      <td>3</td>\n      <td>2.97</td>\n      <td>1</td>\n      <td>False</td>\n    </tr>\n    <tr>\n      <th>54</th>\n      <td>WY</td>\n      <td>87</td>\n      <td>415</td>\n      <td>No</td>\n      <td>No</td>\n      <td>0</td>\n      <td>151.0</td>\n      <td>83</td>\n      <td>25.67</td>\n      <td>219.7</td>\n      <td>116</td>\n      <td>18.67</td>\n      <td>203.9</td>\n      <td>127</td>\n      <td>9.18</td>\n      <td>9.7</td>\n      <td>3</td>\n      <td>2.62</td>\n      <td>5</td>\n      <td>True</td>\n    </tr>\n  </tbody>\n</table>\n</div>",
            "text/plain": "   State  Account length  Area code International plan Voice mail plan  \\\n9     WV             141        415                Yes             Yes   \n26    WY              57        408                 No             Yes   \n44    WI              64        510                 No              No   \n49    WY              97        415                 No             Yes   \n54    WY              87        415                 No              No   \n\n    Number vmail messages  Total day minutes  Total day calls  \\\n9                      37              258.6               84   \n26                     39              213.0              115   \n44                      0              154.0               67   \n49                     24              133.2              135   \n54                      0              151.0               83   \n\n    Total day charge  Total eve minutes  Total eve calls  Total eve charge  \\\n9              43.96              222.0              111             18.87   \n26             36.21              191.1              112             16.24   \n44             26.18              225.8              118             19.19   \n49             22.64              217.2               58             18.46   \n54             25.67              219.7              116             18.67   \n\n    Total night minutes  Total night calls  Total night charge  \\\n9                 326.4                 97               14.69   \n26                182.7                115                8.22   \n44                265.3                 86               11.94   \n49                 70.6                 79                3.18   \n54                203.9                127                9.18   \n\n    Total intl minutes  Total intl calls  Total intl charge  \\\n9                 11.2                 5               3.02   \n26                 9.5                 3               2.57   \n44                 3.5                 3               0.95   \n49                11.0                 3               2.97   \n54                 9.7                 3               2.62   \n\n    Customer service calls  Churn  \n9                        0  False  \n26                       0  False  \n44                       1  False  \n49                       1  False  \n54                       5   True  "
          },
          "metadata": {}
        }
      ]
    },
    {
      "metadata": {
        "trusted": true,
        "scrolled": true
      },
      "cell_type": "code",
      "source": "d={'No' :False,'Yes' :True}\ndf = df.replace({'Voice mail plan': d})\ndf.head()",
      "execution_count": 35,
      "outputs": [
        {
          "output_type": "execute_result",
          "execution_count": 35,
          "data": {
            "text/html": "<div>\n<style scoped>\n    .dataframe tbody tr th:only-of-type {\n        vertical-align: middle;\n    }\n\n    .dataframe tbody tr th {\n        vertical-align: top;\n    }\n\n    .dataframe thead th {\n        text-align: right;\n    }\n</style>\n<table border=\"1\" class=\"dataframe\">\n  <thead>\n    <tr style=\"text-align: right;\">\n      <th></th>\n      <th>State</th>\n      <th>Account length</th>\n      <th>Area code</th>\n      <th>International plan</th>\n      <th>Voice mail plan</th>\n      <th>Number vmail messages</th>\n      <th>Total day minutes</th>\n      <th>Total day calls</th>\n      <th>Total day charge</th>\n      <th>Total eve minutes</th>\n      <th>Total eve calls</th>\n      <th>Total eve charge</th>\n      <th>Total night minutes</th>\n      <th>Total night calls</th>\n      <th>Total night charge</th>\n      <th>Total intl minutes</th>\n      <th>Total intl calls</th>\n      <th>Total intl charge</th>\n      <th>Customer service calls</th>\n      <th>Churn</th>\n    </tr>\n  </thead>\n  <tbody>\n    <tr>\n      <th>0</th>\n      <td>KS</td>\n      <td>128</td>\n      <td>415</td>\n      <td>False</td>\n      <td>NaN</td>\n      <td>25</td>\n      <td>265.1</td>\n      <td>110</td>\n      <td>45.07</td>\n      <td>197.4</td>\n      <td>99</td>\n      <td>16.78</td>\n      <td>244.7</td>\n      <td>91</td>\n      <td>11.01</td>\n      <td>10.0</td>\n      <td>3</td>\n      <td>2.70</td>\n      <td>1</td>\n      <td>False</td>\n    </tr>\n    <tr>\n      <th>1</th>\n      <td>OH</td>\n      <td>107</td>\n      <td>415</td>\n      <td>False</td>\n      <td>NaN</td>\n      <td>26</td>\n      <td>161.6</td>\n      <td>123</td>\n      <td>27.47</td>\n      <td>195.5</td>\n      <td>103</td>\n      <td>16.62</td>\n      <td>254.4</td>\n      <td>103</td>\n      <td>11.45</td>\n      <td>13.7</td>\n      <td>3</td>\n      <td>3.70</td>\n      <td>1</td>\n      <td>False</td>\n    </tr>\n    <tr>\n      <th>2</th>\n      <td>NJ</td>\n      <td>137</td>\n      <td>415</td>\n      <td>False</td>\n      <td>NaN</td>\n      <td>0</td>\n      <td>243.4</td>\n      <td>114</td>\n      <td>41.38</td>\n      <td>121.2</td>\n      <td>110</td>\n      <td>10.30</td>\n      <td>162.6</td>\n      <td>104</td>\n      <td>7.32</td>\n      <td>12.2</td>\n      <td>5</td>\n      <td>3.29</td>\n      <td>0</td>\n      <td>False</td>\n    </tr>\n    <tr>\n      <th>3</th>\n      <td>OH</td>\n      <td>84</td>\n      <td>408</td>\n      <td>True</td>\n      <td>NaN</td>\n      <td>0</td>\n      <td>299.4</td>\n      <td>71</td>\n      <td>50.90</td>\n      <td>61.9</td>\n      <td>88</td>\n      <td>5.26</td>\n      <td>196.9</td>\n      <td>89</td>\n      <td>8.86</td>\n      <td>6.6</td>\n      <td>7</td>\n      <td>1.78</td>\n      <td>2</td>\n      <td>False</td>\n    </tr>\n    <tr>\n      <th>4</th>\n      <td>OK</td>\n      <td>75</td>\n      <td>415</td>\n      <td>True</td>\n      <td>NaN</td>\n      <td>0</td>\n      <td>166.7</td>\n      <td>113</td>\n      <td>28.34</td>\n      <td>148.3</td>\n      <td>122</td>\n      <td>12.61</td>\n      <td>186.9</td>\n      <td>121</td>\n      <td>8.41</td>\n      <td>10.1</td>\n      <td>3</td>\n      <td>2.73</td>\n      <td>3</td>\n      <td>False</td>\n    </tr>\n  </tbody>\n</table>\n</div>",
            "text/plain": "  State  Account length  Area code  International plan  Voice mail plan  \\\n0    KS             128        415               False              NaN   \n1    OH             107        415               False              NaN   \n2    NJ             137        415               False              NaN   \n3    OH              84        408                True              NaN   \n4    OK              75        415                True              NaN   \n\n   Number vmail messages  Total day minutes  Total day calls  \\\n0                     25              265.1              110   \n1                     26              161.6              123   \n2                      0              243.4              114   \n3                      0              299.4               71   \n4                      0              166.7              113   \n\n   Total day charge  Total eve minutes  Total eve calls  Total eve charge  \\\n0             45.07              197.4               99             16.78   \n1             27.47              195.5              103             16.62   \n2             41.38              121.2              110             10.30   \n3             50.90               61.9               88              5.26   \n4             28.34              148.3              122             12.61   \n\n   Total night minutes  Total night calls  Total night charge  \\\n0                244.7                 91               11.01   \n1                254.4                103               11.45   \n2                162.6                104                7.32   \n3                196.9                 89                8.86   \n4                186.9                121                8.41   \n\n   Total intl minutes  Total intl calls  Total intl charge  \\\n0                10.0                 3               2.70   \n1                13.7                 3               3.70   \n2                12.2                 5               3.29   \n3                 6.6                 7               1.78   \n4                10.1                 3               2.73   \n\n   Customer service calls  Churn  \n0                       1  False  \n1                       1  False  \n2                       0  False  \n3                       2  False  \n4                       3  False  "
          },
          "metadata": {}
        }
      ]
    },
    {
      "metadata": {
        "trusted": true
      },
      "cell_type": "code",
      "source": "column_to_show=['State','Area code']\ndf.groupby(['Churn'])[column_to_show].head()",
      "execution_count": 8,
      "outputs": [
        {
          "output_type": "execute_result",
          "execution_count": 8,
          "data": {
            "text/html": "<div>\n<style scoped>\n    .dataframe tbody tr th:only-of-type {\n        vertical-align: middle;\n    }\n\n    .dataframe tbody tr th {\n        vertical-align: top;\n    }\n\n    .dataframe thead th {\n        text-align: right;\n    }\n</style>\n<table border=\"1\" class=\"dataframe\">\n  <thead>\n    <tr style=\"text-align: right;\">\n      <th></th>\n      <th>State</th>\n      <th>Area code</th>\n    </tr>\n  </thead>\n  <tbody>\n    <tr>\n      <th>0</th>\n      <td>KS</td>\n      <td>415</td>\n    </tr>\n    <tr>\n      <th>1</th>\n      <td>OH</td>\n      <td>415</td>\n    </tr>\n    <tr>\n      <th>2</th>\n      <td>NJ</td>\n      <td>415</td>\n    </tr>\n    <tr>\n      <th>3</th>\n      <td>OH</td>\n      <td>408</td>\n    </tr>\n    <tr>\n      <th>4</th>\n      <td>OK</td>\n      <td>415</td>\n    </tr>\n    <tr>\n      <th>10</th>\n      <td>IN</td>\n      <td>415</td>\n    </tr>\n    <tr>\n      <th>15</th>\n      <td>NY</td>\n      <td>415</td>\n    </tr>\n    <tr>\n      <th>21</th>\n      <td>CO</td>\n      <td>408</td>\n    </tr>\n    <tr>\n      <th>33</th>\n      <td>AZ</td>\n      <td>408</td>\n    </tr>\n    <tr>\n      <th>41</th>\n      <td>MD</td>\n      <td>408</td>\n    </tr>\n  </tbody>\n</table>\n</div>",
            "text/plain": "   State  Area code\n0     KS        415\n1     OH        415\n2     NJ        415\n3     OH        408\n4     OK        415\n10    IN        415\n15    NY        415\n21    CO        408\n33    AZ        408\n41    MD        408"
          },
          "metadata": {}
        }
      ]
    },
    {
      "metadata": {
        "trusted": true
      },
      "cell_type": "code",
      "source": "df.groupby(['Churn'])[column_to_show].agg([np.mean,np.std,np.min,np.max])",
      "execution_count": 9,
      "outputs": [
        {
          "output_type": "execute_result",
          "execution_count": 9,
          "data": {
            "text/html": "<div>\n<style scoped>\n    .dataframe tbody tr th:only-of-type {\n        vertical-align: middle;\n    }\n\n    .dataframe tbody tr th {\n        vertical-align: top;\n    }\n\n    .dataframe thead tr th {\n        text-align: left;\n    }\n\n    .dataframe thead tr:last-of-type th {\n        text-align: right;\n    }\n</style>\n<table border=\"1\" class=\"dataframe\">\n  <thead>\n    <tr>\n      <th></th>\n      <th colspan=\"4\" halign=\"left\">Area code</th>\n    </tr>\n    <tr>\n      <th></th>\n      <th>mean</th>\n      <th>std</th>\n      <th>amin</th>\n      <th>amax</th>\n    </tr>\n    <tr>\n      <th>Churn</th>\n      <th></th>\n      <th></th>\n      <th></th>\n      <th></th>\n    </tr>\n  </thead>\n  <tbody>\n    <tr>\n      <th>False</th>\n      <td>437.074737</td>\n      <td>42.306156</td>\n      <td>408</td>\n      <td>510</td>\n    </tr>\n    <tr>\n      <th>True</th>\n      <td>437.817805</td>\n      <td>42.792270</td>\n      <td>408</td>\n      <td>510</td>\n    </tr>\n  </tbody>\n</table>\n</div>",
            "text/plain": "        Area code                     \n             mean        std amin amax\nChurn                                 \nFalse  437.074737  42.306156  408  510\nTrue   437.817805  42.792270  408  510"
          },
          "metadata": {}
        }
      ]
    },
    {
      "metadata": {
        "trusted": true
      },
      "cell_type": "code",
      "source": "pd.crosstab(df['Churn'],df['International plan'],normalize=True)",
      "execution_count": 13,
      "outputs": [
        {
          "output_type": "execute_result",
          "execution_count": 13,
          "data": {
            "text/html": "<div>\n<style scoped>\n    .dataframe tbody tr th:only-of-type {\n        vertical-align: middle;\n    }\n\n    .dataframe tbody tr th {\n        vertical-align: top;\n    }\n\n    .dataframe thead th {\n        text-align: right;\n    }\n</style>\n<table border=\"1\" class=\"dataframe\">\n  <thead>\n    <tr style=\"text-align: right;\">\n      <th>International plan</th>\n      <th>No</th>\n      <th>Yes</th>\n    </tr>\n    <tr>\n      <th>Churn</th>\n      <th></th>\n      <th></th>\n    </tr>\n  </thead>\n  <tbody>\n    <tr>\n      <th>False</th>\n      <td>0.79928</td>\n      <td>0.055806</td>\n    </tr>\n    <tr>\n      <th>True</th>\n      <td>0.10381</td>\n      <td>0.041104</td>\n    </tr>\n  </tbody>\n</table>\n</div>",
            "text/plain": "International plan       No       Yes\nChurn                                \nFalse               0.79928  0.055806\nTrue                0.10381  0.041104"
          },
          "metadata": {}
        }
      ]
    },
    {
      "metadata": {
        "trusted": true
      },
      "cell_type": "code",
      "source": "df.pivot_table(['Account length','International plan','Total day calls'],['Area code'],aggfunc='std')",
      "execution_count": 17,
      "outputs": [
        {
          "output_type": "execute_result",
          "execution_count": 17,
          "data": {
            "text/html": "<div>\n<style scoped>\n    .dataframe tbody tr th:only-of-type {\n        vertical-align: middle;\n    }\n\n    .dataframe tbody tr th {\n        vertical-align: top;\n    }\n\n    .dataframe thead th {\n        text-align: right;\n    }\n</style>\n<table border=\"1\" class=\"dataframe\">\n  <thead>\n    <tr style=\"text-align: right;\">\n      <th></th>\n      <th>Account length</th>\n      <th>Total day calls</th>\n    </tr>\n    <tr>\n      <th>Area code</th>\n      <th></th>\n      <th></th>\n    </tr>\n  </thead>\n  <tbody>\n    <tr>\n      <th>408</th>\n      <td>40.393825</td>\n      <td>19.694243</td>\n    </tr>\n    <tr>\n      <th>415</th>\n      <td>39.256637</td>\n      <td>20.251354</td>\n    </tr>\n    <tr>\n      <th>510</th>\n      <td>40.381347</td>\n      <td>20.098565</td>\n    </tr>\n  </tbody>\n</table>\n</div>",
            "text/plain": "           Account length  Total day calls\nArea code                                 \n408             40.393825        19.694243\n415             39.256637        20.251354\n510             40.381347        20.098565"
          },
          "metadata": {}
        }
      ]
    },
    {
      "metadata": {
        "trusted": true
      },
      "cell_type": "code",
      "source": "df['TotalCalls']=df['Total day calls']+df['Total eve calls']+df['Total intl calls']\ndf.head()",
      "execution_count": 7,
      "outputs": [
        {
          "output_type": "execute_result",
          "execution_count": 7,
          "data": {
            "text/html": "<div>\n<style scoped>\n    .dataframe tbody tr th:only-of-type {\n        vertical-align: middle;\n    }\n\n    .dataframe tbody tr th {\n        vertical-align: top;\n    }\n\n    .dataframe thead th {\n        text-align: right;\n    }\n</style>\n<table border=\"1\" class=\"dataframe\">\n  <thead>\n    <tr style=\"text-align: right;\">\n      <th></th>\n      <th>State</th>\n      <th>Account length</th>\n      <th>Area code</th>\n      <th>International plan</th>\n      <th>Voice mail plan</th>\n      <th>Number vmail messages</th>\n      <th>Total day minutes</th>\n      <th>Total day calls</th>\n      <th>Total day charge</th>\n      <th>Total eve minutes</th>\n      <th>...</th>\n      <th>Total eve charge</th>\n      <th>Total night minutes</th>\n      <th>Total night calls</th>\n      <th>Total night charge</th>\n      <th>Total intl minutes</th>\n      <th>Total intl calls</th>\n      <th>Total intl charge</th>\n      <th>Customer service calls</th>\n      <th>Churn</th>\n      <th>TotalCalls</th>\n    </tr>\n  </thead>\n  <tbody>\n    <tr>\n      <th>0</th>\n      <td>KS</td>\n      <td>128</td>\n      <td>415</td>\n      <td>No</td>\n      <td>Yes</td>\n      <td>25</td>\n      <td>265.1</td>\n      <td>110</td>\n      <td>45.07</td>\n      <td>197.4</td>\n      <td>...</td>\n      <td>16.78</td>\n      <td>244.7</td>\n      <td>91</td>\n      <td>11.01</td>\n      <td>10.0</td>\n      <td>3</td>\n      <td>2.70</td>\n      <td>1</td>\n      <td>False</td>\n      <td>212</td>\n    </tr>\n    <tr>\n      <th>1</th>\n      <td>OH</td>\n      <td>107</td>\n      <td>415</td>\n      <td>No</td>\n      <td>Yes</td>\n      <td>26</td>\n      <td>161.6</td>\n      <td>123</td>\n      <td>27.47</td>\n      <td>195.5</td>\n      <td>...</td>\n      <td>16.62</td>\n      <td>254.4</td>\n      <td>103</td>\n      <td>11.45</td>\n      <td>13.7</td>\n      <td>3</td>\n      <td>3.70</td>\n      <td>1</td>\n      <td>False</td>\n      <td>229</td>\n    </tr>\n    <tr>\n      <th>2</th>\n      <td>NJ</td>\n      <td>137</td>\n      <td>415</td>\n      <td>No</td>\n      <td>No</td>\n      <td>0</td>\n      <td>243.4</td>\n      <td>114</td>\n      <td>41.38</td>\n      <td>121.2</td>\n      <td>...</td>\n      <td>10.30</td>\n      <td>162.6</td>\n      <td>104</td>\n      <td>7.32</td>\n      <td>12.2</td>\n      <td>5</td>\n      <td>3.29</td>\n      <td>0</td>\n      <td>False</td>\n      <td>229</td>\n    </tr>\n    <tr>\n      <th>3</th>\n      <td>OH</td>\n      <td>84</td>\n      <td>408</td>\n      <td>Yes</td>\n      <td>No</td>\n      <td>0</td>\n      <td>299.4</td>\n      <td>71</td>\n      <td>50.90</td>\n      <td>61.9</td>\n      <td>...</td>\n      <td>5.26</td>\n      <td>196.9</td>\n      <td>89</td>\n      <td>8.86</td>\n      <td>6.6</td>\n      <td>7</td>\n      <td>1.78</td>\n      <td>2</td>\n      <td>False</td>\n      <td>166</td>\n    </tr>\n    <tr>\n      <th>4</th>\n      <td>OK</td>\n      <td>75</td>\n      <td>415</td>\n      <td>Yes</td>\n      <td>No</td>\n      <td>0</td>\n      <td>166.7</td>\n      <td>113</td>\n      <td>28.34</td>\n      <td>148.3</td>\n      <td>...</td>\n      <td>12.61</td>\n      <td>186.9</td>\n      <td>121</td>\n      <td>8.41</td>\n      <td>10.1</td>\n      <td>3</td>\n      <td>2.73</td>\n      <td>3</td>\n      <td>False</td>\n      <td>238</td>\n    </tr>\n  </tbody>\n</table>\n<p>5 rows × 21 columns</p>\n</div>",
            "text/plain": "  State  Account length  Area code International plan Voice mail plan  \\\n0    KS             128        415                 No             Yes   \n1    OH             107        415                 No             Yes   \n2    NJ             137        415                 No              No   \n3    OH              84        408                Yes              No   \n4    OK              75        415                Yes              No   \n\n   Number vmail messages  Total day minutes  Total day calls  \\\n0                     25              265.1              110   \n1                     26              161.6              123   \n2                      0              243.4              114   \n3                      0              299.4               71   \n4                      0              166.7              113   \n\n   Total day charge  Total eve minutes     ...      Total eve charge  \\\n0             45.07              197.4     ...                 16.78   \n1             27.47              195.5     ...                 16.62   \n2             41.38              121.2     ...                 10.30   \n3             50.90               61.9     ...                  5.26   \n4             28.34              148.3     ...                 12.61   \n\n   Total night minutes  Total night calls  Total night charge  \\\n0                244.7                 91               11.01   \n1                254.4                103               11.45   \n2                162.6                104                7.32   \n3                196.9                 89                8.86   \n4                186.9                121                8.41   \n\n   Total intl minutes  Total intl calls  Total intl charge  \\\n0                10.0                 3               2.70   \n1                13.7                 3               3.70   \n2                12.2                 5               3.29   \n3                 6.6                 7               1.78   \n4                10.1                 3               2.73   \n\n   Customer service calls  Churn  TotalCalls  \n0                       1  False         212  \n1                       1  False         229  \n2                       0  False         229  \n3                       2  False         166  \n4                       3  False         238  \n\n[5 rows x 21 columns]"
          },
          "metadata": {}
        }
      ]
    },
    {
      "metadata": {
        "trusted": true
      },
      "cell_type": "code",
      "source": "df.drop([2,3],axis=0,inplace=True)\ndf.head()",
      "execution_count": 10,
      "outputs": [
        {
          "output_type": "execute_result",
          "execution_count": 10,
          "data": {
            "text/html": "<div>\n<style scoped>\n    .dataframe tbody tr th:only-of-type {\n        vertical-align: middle;\n    }\n\n    .dataframe tbody tr th {\n        vertical-align: top;\n    }\n\n    .dataframe thead th {\n        text-align: right;\n    }\n</style>\n<table border=\"1\" class=\"dataframe\">\n  <thead>\n    <tr style=\"text-align: right;\">\n      <th></th>\n      <th>Account length</th>\n      <th>Area code</th>\n      <th>International plan</th>\n      <th>Voice mail plan</th>\n      <th>Number vmail messages</th>\n      <th>Total day minutes</th>\n      <th>Total day calls</th>\n      <th>Total day charge</th>\n      <th>Total eve minutes</th>\n      <th>Total eve calls</th>\n      <th>Total eve charge</th>\n      <th>Total night minutes</th>\n      <th>Total night calls</th>\n      <th>Total night charge</th>\n      <th>Total intl minutes</th>\n      <th>Total intl calls</th>\n      <th>Total intl charge</th>\n      <th>Customer service calls</th>\n      <th>Churn</th>\n    </tr>\n  </thead>\n  <tbody>\n    <tr>\n      <th>0</th>\n      <td>128</td>\n      <td>415</td>\n      <td>No</td>\n      <td>Yes</td>\n      <td>25</td>\n      <td>265.1</td>\n      <td>110</td>\n      <td>45.07</td>\n      <td>197.4</td>\n      <td>99</td>\n      <td>16.78</td>\n      <td>244.7</td>\n      <td>91</td>\n      <td>11.01</td>\n      <td>10.0</td>\n      <td>3</td>\n      <td>2.70</td>\n      <td>1</td>\n      <td>False</td>\n    </tr>\n    <tr>\n      <th>1</th>\n      <td>107</td>\n      <td>415</td>\n      <td>No</td>\n      <td>Yes</td>\n      <td>26</td>\n      <td>161.6</td>\n      <td>123</td>\n      <td>27.47</td>\n      <td>195.5</td>\n      <td>103</td>\n      <td>16.62</td>\n      <td>254.4</td>\n      <td>103</td>\n      <td>11.45</td>\n      <td>13.7</td>\n      <td>3</td>\n      <td>3.70</td>\n      <td>1</td>\n      <td>False</td>\n    </tr>\n    <tr>\n      <th>4</th>\n      <td>75</td>\n      <td>415</td>\n      <td>Yes</td>\n      <td>No</td>\n      <td>0</td>\n      <td>166.7</td>\n      <td>113</td>\n      <td>28.34</td>\n      <td>148.3</td>\n      <td>122</td>\n      <td>12.61</td>\n      <td>186.9</td>\n      <td>121</td>\n      <td>8.41</td>\n      <td>10.1</td>\n      <td>3</td>\n      <td>2.73</td>\n      <td>3</td>\n      <td>False</td>\n    </tr>\n    <tr>\n      <th>5</th>\n      <td>118</td>\n      <td>510</td>\n      <td>Yes</td>\n      <td>No</td>\n      <td>0</td>\n      <td>223.4</td>\n      <td>98</td>\n      <td>37.98</td>\n      <td>220.6</td>\n      <td>101</td>\n      <td>18.75</td>\n      <td>203.9</td>\n      <td>118</td>\n      <td>9.18</td>\n      <td>6.3</td>\n      <td>6</td>\n      <td>1.70</td>\n      <td>0</td>\n      <td>False</td>\n    </tr>\n    <tr>\n      <th>6</th>\n      <td>121</td>\n      <td>510</td>\n      <td>No</td>\n      <td>Yes</td>\n      <td>24</td>\n      <td>218.2</td>\n      <td>88</td>\n      <td>37.09</td>\n      <td>348.5</td>\n      <td>108</td>\n      <td>29.62</td>\n      <td>212.6</td>\n      <td>118</td>\n      <td>9.57</td>\n      <td>7.5</td>\n      <td>7</td>\n      <td>2.03</td>\n      <td>3</td>\n      <td>False</td>\n    </tr>\n  </tbody>\n</table>\n</div>",
            "text/plain": "   Account length  Area code International plan Voice mail plan  \\\n0             128        415                 No             Yes   \n1             107        415                 No             Yes   \n4              75        415                Yes              No   \n5             118        510                Yes              No   \n6             121        510                 No             Yes   \n\n   Number vmail messages  Total day minutes  Total day calls  \\\n0                     25              265.1              110   \n1                     26              161.6              123   \n4                      0              166.7              113   \n5                      0              223.4               98   \n6                     24              218.2               88   \n\n   Total day charge  Total eve minutes  Total eve calls  Total eve charge  \\\n0             45.07              197.4               99             16.78   \n1             27.47              195.5              103             16.62   \n4             28.34              148.3              122             12.61   \n5             37.98              220.6              101             18.75   \n6             37.09              348.5              108             29.62   \n\n   Total night minutes  Total night calls  Total night charge  \\\n0                244.7                 91               11.01   \n1                254.4                103               11.45   \n4                186.9                121                8.41   \n5                203.9                118                9.18   \n6                212.6                118                9.57   \n\n   Total intl minutes  Total intl calls  Total intl charge  \\\n0                10.0                 3               2.70   \n1                13.7                 3               3.70   \n4                10.1                 3               2.73   \n5                 6.3                 6               1.70   \n6                 7.5                 7               2.03   \n\n   Customer service calls  Churn  \n0                       1  False  \n1                       1  False  \n4                       3  False  \n5                       0  False  \n6                       3  False  "
          },
          "metadata": {}
        }
      ]
    },
    {
      "metadata": {
        "trusted": true
      },
      "cell_type": "code",
      "source": "import matplotlib.pyplot as plt\nimport seaborn as sns\npd.crosstab(df['Churn'],['International plan']).head()\nsns.countplot(x='International plan',hue='Churn',data=df);",
      "execution_count": 14,
      "outputs": [
        {
          "output_type": "display_data",
          "data": {
            "image/png": "[encoded data removed]",
            "text/plain": "<Figure size 432x288 with 1 Axes>"
          },
          "metadata": {
            "needs_background": "light"
          }
        }
      ]
    },
    {
      "metadata": {
        "trusted": true
      },
      "cell_type": "code",
      "source": "df = pd.DataFrame({ 'id': [1,2,3], 'c1':[0,0,np.nan], 'c2': [np.nan,1,1]})\ndf = df[['id', 'c1', 'c2']]\ndf['num_nulls'] = df[['c1', 'c2']].isnull().sum(axis=1)\ndf.head()",
      "execution_count": 23,
      "outputs": [
        {
          "output_type": "execute_result",
          "execution_count": 23,
          "data": {
            "text/html": "<div>\n<style scoped>\n    .dataframe tbody tr th:only-of-type {\n        vertical-align: middle;\n    }\n\n    .dataframe tbody tr th {\n        vertical-align: top;\n    }\n\n    .dataframe thead th {\n        text-align: right;\n    }\n</style>\n<table border=\"1\" class=\"dataframe\">\n  <thead>\n    <tr style=\"text-align: right;\">\n      <th></th>\n      <th>id</th>\n      <th>c1</th>\n      <th>c2</th>\n      <th>num_nulls</th>\n    </tr>\n  </thead>\n  <tbody>\n    <tr>\n      <th>0</th>\n      <td>1</td>\n      <td>0.0</td>\n      <td>NaN</td>\n      <td>1</td>\n    </tr>\n    <tr>\n      <th>1</th>\n      <td>2</td>\n      <td>0.0</td>\n      <td>1.0</td>\n      <td>0</td>\n    </tr>\n    <tr>\n      <th>2</th>\n      <td>3</td>\n      <td>NaN</td>\n      <td>1.0</td>\n      <td>1</td>\n    </tr>\n  </tbody>\n</table>\n</div>",
            "text/plain": "   id   c1   c2  num_nulls\n0   1  0.0  NaN          1\n1   2  0.0  1.0          0\n2   3  NaN  1.0          1"
          },
          "metadata": {}
        }
      ]
    },
    {
      "metadata": {
        "trusted": true
      },
      "cell_type": "code",
      "source": "df_filter = df['id'].isin([])\ndf[df_filter]",
      "execution_count": 26,
      "outputs": [
        {
          "output_type": "execute_result",
          "execution_count": 26,
          "data": {
            "text/html": "<div>\n<style scoped>\n    .dataframe tbody tr th:only-of-type {\n        vertical-align: middle;\n    }\n\n    .dataframe tbody tr th {\n        vertical-align: top;\n    }\n\n    .dataframe thead th {\n        text-align: right;\n    }\n</style>\n<table border=\"1\" class=\"dataframe\">\n  <thead>\n    <tr style=\"text-align: right;\">\n      <th></th>\n      <th>id</th>\n      <th>c1</th>\n      <th>c2</th>\n      <th>num_nulls</th>\n    </tr>\n  </thead>\n  <tbody>\n  </tbody>\n</table>\n</div>",
            "text/plain": "Empty DataFrame\nColumns: [id, c1, c2, num_nulls]\nIndex: []"
          },
          "metadata": {}
        }
      ]
    },
    {
      "metadata": {
        "trusted": true
      },
      "cell_type": "code",
      "source": "print(df.to_csv())",
      "execution_count": 27,
      "outputs": [
        {
          "output_type": "stream",
          "text": ",id,c1,c2,num_nulls\n0,1,0.0,,1\n1,2,0.0,1.0,0\n2,3,,1.0,1\n\n",
          "name": "stdout"
        }
      ]
    }
  ],
  "metadata": {
    "kernelspec": {
      "name": "python36",
      "display_name": "Python 3.6",
      "language": "python"
    },
    "language_info": {
      "mimetype": "text/x-python",
      "nbconvert_exporter": "python",
      "name": "python",
      "pygments_lexer": "ipython3",
      "version": "3.6.6",
      "file_extension": ".py",
      "codemirror_mode": {
        "version": 3,
        "name": "ipython"
      }
    }
  },
  "nbformat": 4,
  "nbformat_minor": 2
}
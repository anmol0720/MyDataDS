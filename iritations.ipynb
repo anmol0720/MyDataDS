{
  "cells": [
    {
      "metadata": {
        "trusted": true
      },
      "cell_type": "code",
      "source": "n=5\nwhile n>0:\n    print(n)\n    n=n-1\nprint ('done')",
      "execution_count": 2,
      "outputs": [
        {
          "output_type": "stream",
          "text": "5\n4\n3\n2\n1\ndone\n",
          "name": "stdout"
        }
      ]
    },
    {
      "metadata": {
        "trusted": true
      },
      "cell_type": "code",
      "source": "n=[5,4,3,2,1]\nfor i in n:\n    print(i+1)\nprint(i)\nprint('breakout')",
      "execution_count": 4,
      "outputs": [
        {
          "output_type": "stream",
          "text": "6\n5\n4\n3\n2\n1\nbreakout\n",
          "name": "stdout"
        }
      ]
    },
    {
      "metadata": {
        "trusted": true
      },
      "cell_type": "code",
      "source": "n=[5,14,3,2,1]\nb=-1\nfor i  in n:\n    if b<i:\n        b=i\nprint(\"greatest number\",b)",
      "execution_count": 19,
      "outputs": [
        {
          "output_type": "stream",
          "text": "greatest number 14\n",
          "name": "stdout"
        }
      ]
    },
    {
      "metadata": {
        "trusted": true
      },
      "cell_type": "code",
      "source": "small=None\nfor i in [55,444,3,2,1,0]:\n    if small is None:\n        small=i\n    elif i<small:\n        small=i\nprint(small)",
      "execution_count": 22,
      "outputs": [
        {
          "output_type": "stream",
          "text": "0\n",
          "name": "stdout"
        }
      ]
    },
    {
      "metadata": {
        "trusted": true
      },
      "cell_type": "code",
      "source": "n=[5,4,3,2,1]\nt=0\nfor i in n:\n    t=t+1\nprint('number of itterations=',t)",
      "execution_count": 16,
      "outputs": [
        {
          "output_type": "stream",
          "text": "number of itterations= 5\n",
          "name": "stdout"
        }
      ]
    },
    {
      "metadata": {
        "trusted": true
      },
      "cell_type": "code",
      "source": "a=['aaa','bbb','ccc','ddd','eee']\nfor i in a:\n    if i=='ccc':\n        print('found',i)\n",
      "execution_count": 17,
      "outputs": [
        {
          "output_type": "stream",
          "text": "found ccc\n",
          "name": "stdout"
        }
      ]
    },
    {
      "metadata": {
        "trusted": true
      },
      "cell_type": "code",
      "source": "\ngreat=None\nsmall=None\nwhile True:\n    d=input('enter the number')\n    if d=='done':\n        break\n    else:\n        for i in d:\n            if great is None:\n                great=d\n            elif d>great:\n                great=d\n            if small is None:\n                small=d\n            elif d<small:\n                small=d\nprint('greatest number:',great)\nprint('smallest number:',small)",
      "execution_count": 34,
      "outputs": [
        {
          "output_type": "stream",
          "name": "stdout",
          "text": "enter the number45\nenter the number69\nenter the number32\nenter the number10\nenter the number57\nenter the number51\nenter the numberdone\ngreatest number: 69\nsmallest number: 10\n"
        }
      ]
    }
  ],
  "metadata": {
    "kernelspec": {
      "name": "python36",
      "display_name": "Python 3.6",
      "language": "python"
    },
    "language_info": {
      "mimetype": "text/x-python",
      "nbconvert_exporter": "python",
      "name": "python",
      "pygments_lexer": "ipython3",
      "version": "3.6.6",
      "file_extension": ".py",
      "codemirror_mode": {
        "version": 3,
        "name": "ipython"
      }
    }
  },
  "nbformat": 4,
  "nbformat_minor": 2
}